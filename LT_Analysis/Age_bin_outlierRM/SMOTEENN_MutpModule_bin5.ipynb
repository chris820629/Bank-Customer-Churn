{
 "cells": [
  {
   "cell_type": "code",
   "execution_count": 1,
   "id": "7781110c",
   "metadata": {},
   "outputs": [],
   "source": [
    "import pandas as pd\n",
    "import matplotlib.pyplot as plt"
   ]
  },
  {
   "cell_type": "code",
   "execution_count": 3,
   "id": "0740fec9",
   "metadata": {
    "scrolled": false
   },
   "outputs": [
    {
     "data": {
      "text/html": [
       "<div>\n",
       "<style scoped>\n",
       "    .dataframe tbody tr th:only-of-type {\n",
       "        vertical-align: middle;\n",
       "    }\n",
       "\n",
       "    .dataframe tbody tr th {\n",
       "        vertical-align: top;\n",
       "    }\n",
       "\n",
       "    .dataframe thead th {\n",
       "        text-align: right;\n",
       "    }\n",
       "</style>\n",
       "<table border=\"1\" class=\"dataframe\">\n",
       "  <thead>\n",
       "    <tr style=\"text-align: right;\">\n",
       "      <th></th>\n",
       "      <th>Unnamed: 0</th>\n",
       "      <th>CreditScore</th>\n",
       "      <th>Tenure</th>\n",
       "      <th>Balance</th>\n",
       "      <th>NumOfProducts</th>\n",
       "      <th>HasCrCard</th>\n",
       "      <th>IsActiveMember</th>\n",
       "      <th>EstimatedSalary</th>\n",
       "      <th>Exited</th>\n",
       "      <th>bin_age</th>\n",
       "      <th>gender</th>\n",
       "      <th>Geography_France</th>\n",
       "      <th>Geography_Germany</th>\n",
       "      <th>Geography_Spain</th>\n",
       "    </tr>\n",
       "  </thead>\n",
       "  <tbody>\n",
       "    <tr>\n",
       "      <th>count</th>\n",
       "      <td>9589.000000</td>\n",
       "      <td>9589.000000</td>\n",
       "      <td>9589.000000</td>\n",
       "      <td>9589.000000</td>\n",
       "      <td>9589.000000</td>\n",
       "      <td>9589.000000</td>\n",
       "      <td>9589.000000</td>\n",
       "      <td>9589.000000</td>\n",
       "      <td>9589.000000</td>\n",
       "      <td>9589.000000</td>\n",
       "      <td>9589.000000</td>\n",
       "      <td>9589.000000</td>\n",
       "      <td>9589.000000</td>\n",
       "      <td>9589.000000</td>\n",
       "    </tr>\n",
       "    <tr>\n",
       "      <th>mean</th>\n",
       "      <td>4996.449682</td>\n",
       "      <td>650.287830</td>\n",
       "      <td>5.013974</td>\n",
       "      <td>76552.236761</td>\n",
       "      <td>1.530921</td>\n",
       "      <td>0.705809</td>\n",
       "      <td>0.502138</td>\n",
       "      <td>100200.278401</td>\n",
       "      <td>0.202628</td>\n",
       "      <td>4.687246</td>\n",
       "      <td>0.546042</td>\n",
       "      <td>0.501408</td>\n",
       "      <td>0.251434</td>\n",
       "      <td>0.247158</td>\n",
       "    </tr>\n",
       "    <tr>\n",
       "      <th>std</th>\n",
       "      <td>2888.503018</td>\n",
       "      <td>96.660575</td>\n",
       "      <td>2.888560</td>\n",
       "      <td>62422.133272</td>\n",
       "      <td>0.581498</td>\n",
       "      <td>0.455702</td>\n",
       "      <td>0.500022</td>\n",
       "      <td>57500.956105</td>\n",
       "      <td>0.401979</td>\n",
       "      <td>2.082193</td>\n",
       "      <td>0.497902</td>\n",
       "      <td>0.500024</td>\n",
       "      <td>0.433860</td>\n",
       "      <td>0.431382</td>\n",
       "    </tr>\n",
       "    <tr>\n",
       "      <th>min</th>\n",
       "      <td>0.000000</td>\n",
       "      <td>350.000000</td>\n",
       "      <td>0.000000</td>\n",
       "      <td>0.000000</td>\n",
       "      <td>1.000000</td>\n",
       "      <td>0.000000</td>\n",
       "      <td>0.000000</td>\n",
       "      <td>11.580000</td>\n",
       "      <td>0.000000</td>\n",
       "      <td>-1.000000</td>\n",
       "      <td>0.000000</td>\n",
       "      <td>0.000000</td>\n",
       "      <td>0.000000</td>\n",
       "      <td>0.000000</td>\n",
       "    </tr>\n",
       "    <tr>\n",
       "      <th>25%</th>\n",
       "      <td>2486.000000</td>\n",
       "      <td>583.000000</td>\n",
       "      <td>3.000000</td>\n",
       "      <td>0.000000</td>\n",
       "      <td>1.000000</td>\n",
       "      <td>0.000000</td>\n",
       "      <td>0.000000</td>\n",
       "      <td>51226.320000</td>\n",
       "      <td>0.000000</td>\n",
       "      <td>4.000000</td>\n",
       "      <td>0.000000</td>\n",
       "      <td>0.000000</td>\n",
       "      <td>0.000000</td>\n",
       "      <td>0.000000</td>\n",
       "    </tr>\n",
       "    <tr>\n",
       "      <th>50%</th>\n",
       "      <td>5005.000000</td>\n",
       "      <td>652.000000</td>\n",
       "      <td>5.000000</td>\n",
       "      <td>97266.100000</td>\n",
       "      <td>1.000000</td>\n",
       "      <td>1.000000</td>\n",
       "      <td>1.000000</td>\n",
       "      <td>100335.550000</td>\n",
       "      <td>0.000000</td>\n",
       "      <td>5.000000</td>\n",
       "      <td>1.000000</td>\n",
       "      <td>1.000000</td>\n",
       "      <td>0.000000</td>\n",
       "      <td>0.000000</td>\n",
       "    </tr>\n",
       "    <tr>\n",
       "      <th>75%</th>\n",
       "      <td>7493.000000</td>\n",
       "      <td>717.000000</td>\n",
       "      <td>7.000000</td>\n",
       "      <td>127661.690000</td>\n",
       "      <td>2.000000</td>\n",
       "      <td>1.000000</td>\n",
       "      <td>1.000000</td>\n",
       "      <td>149458.730000</td>\n",
       "      <td>0.000000</td>\n",
       "      <td>6.000000</td>\n",
       "      <td>1.000000</td>\n",
       "      <td>1.000000</td>\n",
       "      <td>1.000000</td>\n",
       "      <td>0.000000</td>\n",
       "    </tr>\n",
       "    <tr>\n",
       "      <th>max</th>\n",
       "      <td>9999.000000</td>\n",
       "      <td>850.000000</td>\n",
       "      <td>10.000000</td>\n",
       "      <td>250898.090000</td>\n",
       "      <td>4.000000</td>\n",
       "      <td>1.000000</td>\n",
       "      <td>1.000000</td>\n",
       "      <td>199992.480000</td>\n",
       "      <td>1.000000</td>\n",
       "      <td>10.000000</td>\n",
       "      <td>1.000000</td>\n",
       "      <td>1.000000</td>\n",
       "      <td>1.000000</td>\n",
       "      <td>1.000000</td>\n",
       "    </tr>\n",
       "  </tbody>\n",
       "</table>\n",
       "</div>"
      ],
      "text/plain": [
       "        Unnamed: 0  CreditScore       Tenure        Balance  NumOfProducts  \\\n",
       "count  9589.000000  9589.000000  9589.000000    9589.000000    9589.000000   \n",
       "mean   4996.449682   650.287830     5.013974   76552.236761       1.530921   \n",
       "std    2888.503018    96.660575     2.888560   62422.133272       0.581498   \n",
       "min       0.000000   350.000000     0.000000       0.000000       1.000000   \n",
       "25%    2486.000000   583.000000     3.000000       0.000000       1.000000   \n",
       "50%    5005.000000   652.000000     5.000000   97266.100000       1.000000   \n",
       "75%    7493.000000   717.000000     7.000000  127661.690000       2.000000   \n",
       "max    9999.000000   850.000000    10.000000  250898.090000       4.000000   \n",
       "\n",
       "         HasCrCard  IsActiveMember  EstimatedSalary       Exited      bin_age  \\\n",
       "count  9589.000000     9589.000000      9589.000000  9589.000000  9589.000000   \n",
       "mean      0.705809        0.502138    100200.278401     0.202628     4.687246   \n",
       "std       0.455702        0.500022     57500.956105     0.401979     2.082193   \n",
       "min       0.000000        0.000000        11.580000     0.000000    -1.000000   \n",
       "25%       0.000000        0.000000     51226.320000     0.000000     4.000000   \n",
       "50%       1.000000        1.000000    100335.550000     0.000000     5.000000   \n",
       "75%       1.000000        1.000000    149458.730000     0.000000     6.000000   \n",
       "max       1.000000        1.000000    199992.480000     1.000000    10.000000   \n",
       "\n",
       "            gender  Geography_France  Geography_Germany  Geography_Spain  \n",
       "count  9589.000000       9589.000000        9589.000000      9589.000000  \n",
       "mean      0.546042          0.501408           0.251434         0.247158  \n",
       "std       0.497902          0.500024           0.433860         0.431382  \n",
       "min       0.000000          0.000000           0.000000         0.000000  \n",
       "25%       0.000000          0.000000           0.000000         0.000000  \n",
       "50%       1.000000          1.000000           0.000000         0.000000  \n",
       "75%       1.000000          1.000000           1.000000         0.000000  \n",
       "max       1.000000          1.000000           1.000000         1.000000  "
      ]
     },
     "execution_count": 3,
     "metadata": {},
     "output_type": "execute_result"
    }
   ],
   "source": [
    "#Read Churn Dataset and get summary of basic statistics\n",
    "df=pd.read_csv('./Resources/a_bin_5_df.csv')\n",
    "df.describe()"
   ]
  },
  {
   "cell_type": "code",
   "execution_count": 4,
   "id": "30afa0ef",
   "metadata": {},
   "outputs": [
    {
     "name": "stdout",
     "output_type": "stream",
     "text": [
      "<class 'pandas.core.frame.DataFrame'>\n",
      "RangeIndex: 9589 entries, 0 to 9588\n",
      "Data columns (total 14 columns):\n",
      " #   Column             Non-Null Count  Dtype  \n",
      "---  ------             --------------  -----  \n",
      " 0   Unnamed: 0         9589 non-null   int64  \n",
      " 1   CreditScore        9589 non-null   int64  \n",
      " 2   Tenure             9589 non-null   int64  \n",
      " 3   Balance            9589 non-null   float64\n",
      " 4   NumOfProducts      9589 non-null   int64  \n",
      " 5   HasCrCard          9589 non-null   int64  \n",
      " 6   IsActiveMember     9589 non-null   int64  \n",
      " 7   EstimatedSalary    9589 non-null   float64\n",
      " 8   Exited             9589 non-null   int64  \n",
      " 9   bin_age            9589 non-null   int64  \n",
      " 10  gender             9589 non-null   int64  \n",
      " 11  Geography_France   9589 non-null   int64  \n",
      " 12  Geography_Germany  9589 non-null   int64  \n",
      " 13  Geography_Spain    9589 non-null   int64  \n",
      "dtypes: float64(2), int64(12)\n",
      "memory usage: 1.0 MB\n"
     ]
    }
   ],
   "source": [
    "df.info()"
   ]
  },
  {
   "cell_type": "markdown",
   "id": "4340c4d2",
   "metadata": {},
   "source": [
    "### Smoteenn Remove Age Outliers"
   ]
  },
  {
   "cell_type": "code",
   "execution_count": 5,
   "id": "54b9c6c0",
   "metadata": {},
   "outputs": [],
   "source": [
    "import warnings\n",
    "warnings.filterwarnings('ignore')\n",
    "\n",
    "import numpy as np\n",
    "import pandas as pd"
   ]
  },
  {
   "cell_type": "code",
   "execution_count": 6,
   "id": "139627f1",
   "metadata": {},
   "outputs": [],
   "source": [
    "from pathlib import Path\n",
    "from collections import Counter\n",
    "\n",
    "from sklearn.preprocessing import StandardScaler\n",
    "from sklearn.metrics import balanced_accuracy_score\n",
    "from sklearn.metrics import confusion_matrix\n",
    "from imblearn.metrics import classification_report_imbalanced\n",
    "from sklearn.preprocessing import LabelEncoder\n",
    "from sklearn.preprocessing import OneHotEncoder\n",
    "from sklearn.compose import ColumnTransformer"
   ]
  },
  {
   "cell_type": "code",
   "execution_count": 7,
   "id": "082e7bca",
   "metadata": {},
   "outputs": [],
   "source": [
    "#Create Features\n",
    "X = df.drop([\"Exited\"], axis=1)\n",
    "\n",
    "# Create our target\n",
    "y = df[\"Exited\"]"
   ]
  },
  {
   "cell_type": "code",
   "execution_count": 8,
   "id": "0932480c",
   "metadata": {
    "scrolled": false
   },
   "outputs": [
    {
     "data": {
      "text/plain": [
       "0    7646\n",
       "1    1943\n",
       "Name: Exited, dtype: int64"
      ]
     },
     "execution_count": 8,
     "metadata": {},
     "output_type": "execute_result"
    }
   ],
   "source": [
    "# Check the balance of our target values\n",
    "y.value_counts()"
   ]
  },
  {
   "cell_type": "code",
   "execution_count": 9,
   "id": "27cef725",
   "metadata": {},
   "outputs": [
    {
     "data": {
      "text/plain": [
       "Counter({0: 5740, 1: 1451})"
      ]
     },
     "execution_count": 9,
     "metadata": {},
     "output_type": "execute_result"
    }
   ],
   "source": [
    "from sklearn.model_selection import train_test_split\n",
    "\n",
    "X_train, X_test, y_train, y_test = train_test_split(X, y, random_state=42)\n",
    "Counter(y_train)"
   ]
  },
  {
   "cell_type": "code",
   "execution_count": 10,
   "id": "7a1e3292",
   "metadata": {},
   "outputs": [],
   "source": [
    "# Standardize the data with StandardScaler().\n",
    "scaler = StandardScaler().fit(X_train)\n",
    "\n",
    "X_train = scaler.transform(X_train)\n",
    "X_test = scaler.transform(X_test)"
   ]
  },
  {
   "cell_type": "code",
   "execution_count": 11,
   "id": "e8023761",
   "metadata": {},
   "outputs": [
    {
     "data": {
      "text/plain": [
       "Counter({0: 3433, 1: 4894})"
      ]
     },
     "execution_count": 11,
     "metadata": {},
     "output_type": "execute_result"
    }
   ],
   "source": [
    "# Combined over and under sampling for imbalanced classification\n",
    "from imblearn.combine import SMOTEENN\n",
    "\n",
    "# define sampling\n",
    "comb_sample = SMOTEENN(random_state=42)\n",
    "X_resample, y_resample = comb_sample.fit_resample(X_train, y_train)\n",
    "\n",
    "# Check if SMOTE-ENN were properly applied\n",
    "Counter(y_resample)"
   ]
  },
  {
   "cell_type": "markdown",
   "id": "eecfab56",
   "metadata": {},
   "source": [
    "### Fit Different Module Define"
   ]
  },
  {
   "cell_type": "code",
   "execution_count": 12,
   "id": "2941a354",
   "metadata": {},
   "outputs": [],
   "source": [
    "from sklearn.linear_model import LogisticRegression\n",
    "from sklearn.neighbors import KNeighborsClassifier\n",
    "from sklearn.svm import SVC\n",
    "from sklearn.tree import DecisionTreeClassifier\n",
    "from sklearn.ensemble import RandomForestClassifier\n",
    "from sklearn.ensemble import AdaBoostClassifier\n",
    "from xgboost import XGBClassifier"
   ]
  },
  {
   "cell_type": "markdown",
   "id": "ca5be061",
   "metadata": {},
   "source": [
    "### AdaBoost Model with SMOTEENN"
   ]
  },
  {
   "cell_type": "code",
   "execution_count": 13,
   "id": "a325aa90",
   "metadata": {},
   "outputs": [],
   "source": [
    "# Initiate the model\n",
    "smoteenn_adb = AdaBoostClassifier()\n",
    "\n",
    "# Fit the model\n",
    "smoteenn_adb_model = smoteenn_adb.fit(X_resample, y_resample.ravel())\n",
    "\n",
    "# Make Predictions\n",
    "y_pred = smoteenn_adb_model.predict(X_test)"
   ]
  },
  {
   "cell_type": "code",
   "execution_count": 14,
   "id": "f7802530",
   "metadata": {},
   "outputs": [
    {
     "data": {
      "text/plain": [
       "0.7043887936256068"
      ]
     },
     "execution_count": 14,
     "metadata": {},
     "output_type": "execute_result"
    }
   ],
   "source": [
    "# Calculated the balanced accuracy score\n",
    "smoteenn_adb_accuracy = balanced_accuracy_score(y_test, y_pred)\n",
    "smoteenn_adb_accuracy"
   ]
  },
  {
   "cell_type": "code",
   "execution_count": 15,
   "id": "ea45d3f1",
   "metadata": {
    "scrolled": true
   },
   "outputs": [
    {
     "data": {
      "text/html": [
       "<div>\n",
       "<style scoped>\n",
       "    .dataframe tbody tr th:only-of-type {\n",
       "        vertical-align: middle;\n",
       "    }\n",
       "\n",
       "    .dataframe tbody tr th {\n",
       "        vertical-align: top;\n",
       "    }\n",
       "\n",
       "    .dataframe thead th {\n",
       "        text-align: right;\n",
       "    }\n",
       "</style>\n",
       "<table border=\"1\" class=\"dataframe\">\n",
       "  <thead>\n",
       "    <tr style=\"text-align: right;\">\n",
       "      <th></th>\n",
       "      <th>Predicted Active</th>\n",
       "      <th>Predicted Exited</th>\n",
       "    </tr>\n",
       "  </thead>\n",
       "  <tbody>\n",
       "    <tr>\n",
       "      <th>Actual Active</th>\n",
       "      <td>1275</td>\n",
       "      <td>631</td>\n",
       "    </tr>\n",
       "    <tr>\n",
       "      <th>Actual Exited</th>\n",
       "      <td>128</td>\n",
       "      <td>364</td>\n",
       "    </tr>\n",
       "  </tbody>\n",
       "</table>\n",
       "</div>"
      ],
      "text/plain": [
       "               Predicted Active  Predicted Exited\n",
       "Actual Active              1275               631\n",
       "Actual Exited               128               364"
      ]
     },
     "execution_count": 15,
     "metadata": {},
     "output_type": "execute_result"
    }
   ],
   "source": [
    "# Display the confusion matrix\n",
    "cm = confusion_matrix(y_test, y_pred)\n",
    "cm_df = pd.DataFrame(cm, index=[\"Actual Active\", \"Actual Exited\"], columns=[\"Predicted Active\", \"Predicted Exited\"])\n",
    "\n",
    "cm_df"
   ]
  },
  {
   "cell_type": "code",
   "execution_count": 16,
   "id": "a5c2b155",
   "metadata": {
    "scrolled": true
   },
   "outputs": [
    {
     "name": "stdout",
     "output_type": "stream",
     "text": [
      "smoteenn adb classification report\n",
      "                   pre       rec       spe        f1       geo       iba       sup\n",
      "\n",
      "          0       0.91      0.67      0.74      0.77      0.70      0.49      1906\n",
      "          1       0.37      0.74      0.67      0.49      0.70      0.50       492\n",
      "\n",
      "avg / total       0.80      0.68      0.73      0.71      0.70      0.49      2398\n",
      "\n"
     ]
    }
   ],
   "source": [
    "# Print the imbalanced classification report\n",
    "from imblearn.metrics import classification_report_imbalanced\n",
    "print(f'smoteenn adb classification report')\n",
    "print(classification_report_imbalanced(y_test, y_pred))"
   ]
  },
  {
   "cell_type": "markdown",
   "id": "20df655e",
   "metadata": {},
   "source": [
    "### KNN with SMOTEENN"
   ]
  },
  {
   "cell_type": "code",
   "execution_count": 17,
   "id": "413908e3",
   "metadata": {},
   "outputs": [],
   "source": [
    "# Initiate the model\n",
    "smoteenn_knn = KNeighborsClassifier()\n",
    "\n",
    "# Fit the model\n",
    "smoteenn_knn_model = smoteenn_knn.fit(X_resample, y_resample.ravel())\n",
    "\n",
    "# Make Predictions\n",
    "y_pred=smoteenn_knn_model.predict(X_test)"
   ]
  },
  {
   "cell_type": "code",
   "execution_count": 18,
   "id": "c6e75391",
   "metadata": {},
   "outputs": [
    {
     "data": {
      "text/plain": [
       "0.6627509192195804"
      ]
     },
     "execution_count": 18,
     "metadata": {},
     "output_type": "execute_result"
    }
   ],
   "source": [
    "# Calculated the balanced accuracy score\n",
    "smoteenn_knn_accuracy = balanced_accuracy_score(y_test, y_pred)\n",
    "smoteenn_knn_accuracy"
   ]
  },
  {
   "cell_type": "code",
   "execution_count": 19,
   "id": "9682e803",
   "metadata": {},
   "outputs": [
    {
     "data": {
      "text/html": [
       "<div>\n",
       "<style scoped>\n",
       "    .dataframe tbody tr th:only-of-type {\n",
       "        vertical-align: middle;\n",
       "    }\n",
       "\n",
       "    .dataframe tbody tr th {\n",
       "        vertical-align: top;\n",
       "    }\n",
       "\n",
       "    .dataframe thead th {\n",
       "        text-align: right;\n",
       "    }\n",
       "</style>\n",
       "<table border=\"1\" class=\"dataframe\">\n",
       "  <thead>\n",
       "    <tr style=\"text-align: right;\">\n",
       "      <th></th>\n",
       "      <th>Predicted Active</th>\n",
       "      <th>Predicted Exited</th>\n",
       "    </tr>\n",
       "  </thead>\n",
       "  <tbody>\n",
       "    <tr>\n",
       "      <th>Actual Active</th>\n",
       "      <td>1217</td>\n",
       "      <td>689</td>\n",
       "    </tr>\n",
       "    <tr>\n",
       "      <th>Actual Exited</th>\n",
       "      <td>154</td>\n",
       "      <td>338</td>\n",
       "    </tr>\n",
       "  </tbody>\n",
       "</table>\n",
       "</div>"
      ],
      "text/plain": [
       "               Predicted Active  Predicted Exited\n",
       "Actual Active              1217               689\n",
       "Actual Exited               154               338"
      ]
     },
     "execution_count": 19,
     "metadata": {},
     "output_type": "execute_result"
    }
   ],
   "source": [
    "# Display the confusion matrix\n",
    "cm = confusion_matrix(y_test, y_pred)\n",
    "cm_df = pd.DataFrame(cm, index=[\"Actual Active\", \"Actual Exited\"], columns=[\"Predicted Active\", \"Predicted Exited\"])\n",
    "\n",
    "cm_df"
   ]
  },
  {
   "cell_type": "code",
   "execution_count": 20,
   "id": "24d6a894",
   "metadata": {},
   "outputs": [
    {
     "name": "stdout",
     "output_type": "stream",
     "text": [
      "smoteenn knn classification report\n",
      "                   pre       rec       spe        f1       geo       iba       sup\n",
      "\n",
      "          0       0.89      0.64      0.69      0.74      0.66      0.44      1906\n",
      "          1       0.33      0.69      0.64      0.45      0.66      0.44       492\n",
      "\n",
      "avg / total       0.77      0.65      0.68      0.68      0.66      0.44      2398\n",
      "\n"
     ]
    }
   ],
   "source": [
    "# Print the imbalanced classification report\n",
    "from imblearn.metrics import classification_report_imbalanced\n",
    "print(f'smoteenn knn classification report')\n",
    "print(classification_report_imbalanced(y_test, y_pred))"
   ]
  },
  {
   "cell_type": "markdown",
   "id": "70146e05",
   "metadata": {},
   "source": [
    "### SVM with SMOTEENN"
   ]
  },
  {
   "cell_type": "code",
   "execution_count": 21,
   "id": "76ab3118",
   "metadata": {},
   "outputs": [],
   "source": [
    "# Initiate the model\n",
    "smoteenn_svc = SVC(kernel='rbf',probability=True)\n",
    "\n",
    "# Fit the model\n",
    "smoteenn_svc_model = smoteenn_svc.fit(X_resample, y_resample.ravel())\n",
    "\n",
    "# Make Predictions\n",
    "y_pred=smoteenn_svc_model.predict(X_test)"
   ]
  },
  {
   "cell_type": "code",
   "execution_count": 22,
   "id": "9381bc99",
   "metadata": {},
   "outputs": [
    {
     "data": {
      "text/plain": [
       "0.6900225219461009"
      ]
     },
     "execution_count": 22,
     "metadata": {},
     "output_type": "execute_result"
    }
   ],
   "source": [
    "# Calculated the balanced accuracy score\n",
    "smoteenn_svc_accuracy = balanced_accuracy_score(y_test, y_pred)\n",
    "smoteenn_svc_accuracy"
   ]
  },
  {
   "cell_type": "code",
   "execution_count": 23,
   "id": "479afc5a",
   "metadata": {},
   "outputs": [
    {
     "data": {
      "text/html": [
       "<div>\n",
       "<style scoped>\n",
       "    .dataframe tbody tr th:only-of-type {\n",
       "        vertical-align: middle;\n",
       "    }\n",
       "\n",
       "    .dataframe tbody tr th {\n",
       "        vertical-align: top;\n",
       "    }\n",
       "\n",
       "    .dataframe thead th {\n",
       "        text-align: right;\n",
       "    }\n",
       "</style>\n",
       "<table border=\"1\" class=\"dataframe\">\n",
       "  <thead>\n",
       "    <tr style=\"text-align: right;\">\n",
       "      <th></th>\n",
       "      <th>Predicted Active</th>\n",
       "      <th>Predicted Exited</th>\n",
       "    </tr>\n",
       "  </thead>\n",
       "  <tbody>\n",
       "    <tr>\n",
       "      <th>Actual Active</th>\n",
       "      <td>1166</td>\n",
       "      <td>740</td>\n",
       "    </tr>\n",
       "    <tr>\n",
       "      <th>Actual Exited</th>\n",
       "      <td>114</td>\n",
       "      <td>378</td>\n",
       "    </tr>\n",
       "  </tbody>\n",
       "</table>\n",
       "</div>"
      ],
      "text/plain": [
       "               Predicted Active  Predicted Exited\n",
       "Actual Active              1166               740\n",
       "Actual Exited               114               378"
      ]
     },
     "execution_count": 23,
     "metadata": {},
     "output_type": "execute_result"
    }
   ],
   "source": [
    "# Display the confusion matrix\n",
    "cm = confusion_matrix(y_test, y_pred)\n",
    "cm_df = pd.DataFrame(cm, index=[\"Actual Active\", \"Actual Exited\"], columns=[\"Predicted Active\", \"Predicted Exited\"])\n",
    "\n",
    "cm_df"
   ]
  },
  {
   "cell_type": "code",
   "execution_count": 24,
   "id": "b08e4bae",
   "metadata": {
    "scrolled": true
   },
   "outputs": [
    {
     "name": "stdout",
     "output_type": "stream",
     "text": [
      "smoteenn svc classification report\n",
      "                   pre       rec       spe        f1       geo       iba       sup\n",
      "\n",
      "          0       0.91      0.61      0.77      0.73      0.69      0.46      1906\n",
      "          1       0.34      0.77      0.61      0.47      0.69      0.48       492\n",
      "\n",
      "avg / total       0.79      0.64      0.74      0.68      0.69      0.47      2398\n",
      "\n"
     ]
    }
   ],
   "source": [
    "# Print the imbalanced classification report\n",
    "from imblearn.metrics import classification_report_imbalanced\n",
    "print(f'smoteenn svc classification report')\n",
    "print(classification_report_imbalanced(y_test, y_pred))"
   ]
  },
  {
   "cell_type": "markdown",
   "id": "16b391c1",
   "metadata": {},
   "source": [
    "### Decision Tree with SMOTEENN"
   ]
  },
  {
   "cell_type": "code",
   "execution_count": 25,
   "id": "09a2292e",
   "metadata": {},
   "outputs": [],
   "source": [
    "# Initiate the model\n",
    "smoteenn_tree = DecisionTreeClassifier()\n",
    "\n",
    "# Fit the model\n",
    "smoteenn_tree_model = smoteenn_tree.fit(X_resample, y_resample.ravel())\n",
    "\n",
    "# Make Predictions\n",
    "y_pred=smoteenn_tree_model.predict(X_test)"
   ]
  },
  {
   "cell_type": "code",
   "execution_count": 26,
   "id": "b0b8ef50",
   "metadata": {},
   "outputs": [
    {
     "data": {
      "text/plain": [
       "0.6854168266236702"
      ]
     },
     "execution_count": 26,
     "metadata": {},
     "output_type": "execute_result"
    }
   ],
   "source": [
    "# Calculated the balanced accuracy score\n",
    "smoteenn_tree_accuracy = balanced_accuracy_score(y_test, y_pred)\n",
    "smoteenn_tree_accuracy"
   ]
  },
  {
   "cell_type": "code",
   "execution_count": 27,
   "id": "0e1169a0",
   "metadata": {},
   "outputs": [
    {
     "data": {
      "text/html": [
       "<div>\n",
       "<style scoped>\n",
       "    .dataframe tbody tr th:only-of-type {\n",
       "        vertical-align: middle;\n",
       "    }\n",
       "\n",
       "    .dataframe tbody tr th {\n",
       "        vertical-align: top;\n",
       "    }\n",
       "\n",
       "    .dataframe thead th {\n",
       "        text-align: right;\n",
       "    }\n",
       "</style>\n",
       "<table border=\"1\" class=\"dataframe\">\n",
       "  <thead>\n",
       "    <tr style=\"text-align: right;\">\n",
       "      <th></th>\n",
       "      <th>Predicted Active</th>\n",
       "      <th>Predicted Exited</th>\n",
       "    </tr>\n",
       "  </thead>\n",
       "  <tbody>\n",
       "    <tr>\n",
       "      <th>Actual Active</th>\n",
       "      <td>1408</td>\n",
       "      <td>498</td>\n",
       "    </tr>\n",
       "    <tr>\n",
       "      <th>Actual Exited</th>\n",
       "      <td>181</td>\n",
       "      <td>311</td>\n",
       "    </tr>\n",
       "  </tbody>\n",
       "</table>\n",
       "</div>"
      ],
      "text/plain": [
       "               Predicted Active  Predicted Exited\n",
       "Actual Active              1408               498\n",
       "Actual Exited               181               311"
      ]
     },
     "execution_count": 27,
     "metadata": {},
     "output_type": "execute_result"
    }
   ],
   "source": [
    "# Display the confusion matrix\n",
    "cm = confusion_matrix(y_test, y_pred)\n",
    "cm_df = pd.DataFrame(cm, index=[\"Actual Active\", \"Actual Exited\"], columns=[\"Predicted Active\", \"Predicted Exited\"])\n",
    "\n",
    "cm_df"
   ]
  },
  {
   "cell_type": "code",
   "execution_count": 28,
   "id": "04686975",
   "metadata": {
    "scrolled": true
   },
   "outputs": [
    {
     "name": "stdout",
     "output_type": "stream",
     "text": [
      "smoteenn tree classification report\n",
      "                   pre       rec       spe        f1       geo       iba       sup\n",
      "\n",
      "          0       0.89      0.74      0.63      0.81      0.68      0.47      1906\n",
      "          1       0.38      0.63      0.74      0.48      0.68      0.46       492\n",
      "\n",
      "avg / total       0.78      0.72      0.65      0.74      0.68      0.47      2398\n",
      "\n"
     ]
    }
   ],
   "source": [
    "# Print the imbalanced classification report\n",
    "from imblearn.metrics import classification_report_imbalanced\n",
    "print(f'smoteenn tree classification report')\n",
    "print(classification_report_imbalanced(y_test, y_pred))"
   ]
  },
  {
   "cell_type": "markdown",
   "id": "4f53d168",
   "metadata": {},
   "source": [
    "### Random Forest with SMOTEENN"
   ]
  },
  {
   "cell_type": "code",
   "execution_count": 29,
   "id": "a4d44187",
   "metadata": {},
   "outputs": [],
   "source": [
    "# Initiate the model\n",
    "smoteenn_rfc = RandomForestClassifier()\n",
    "\n",
    "# Fit the model\n",
    "smoteenn_rfc_model = smoteenn_rfc.fit(X_resample, y_resample.ravel())\n",
    "\n",
    "# Make Predictions\n",
    "y_pred = smoteenn_rfc_model.predict(X_test)"
   ]
  },
  {
   "cell_type": "code",
   "execution_count": 30,
   "id": "7675bfcf",
   "metadata": {},
   "outputs": [
    {
     "data": {
      "text/plain": [
       "0.7100384749912556"
      ]
     },
     "execution_count": 30,
     "metadata": {},
     "output_type": "execute_result"
    }
   ],
   "source": [
    "# Calculated the balanced accuracy score\n",
    "smoteenn_rfc_accuracy = balanced_accuracy_score(y_test, y_pred)\n",
    "smoteenn_rfc_accuracy"
   ]
  },
  {
   "cell_type": "code",
   "execution_count": 31,
   "id": "234936c2",
   "metadata": {},
   "outputs": [
    {
     "data": {
      "text/html": [
       "<div>\n",
       "<style scoped>\n",
       "    .dataframe tbody tr th:only-of-type {\n",
       "        vertical-align: middle;\n",
       "    }\n",
       "\n",
       "    .dataframe tbody tr th {\n",
       "        vertical-align: top;\n",
       "    }\n",
       "\n",
       "    .dataframe thead th {\n",
       "        text-align: right;\n",
       "    }\n",
       "</style>\n",
       "<table border=\"1\" class=\"dataframe\">\n",
       "  <thead>\n",
       "    <tr style=\"text-align: right;\">\n",
       "      <th></th>\n",
       "      <th>Predicted Active</th>\n",
       "      <th>Predicted Exited</th>\n",
       "    </tr>\n",
       "  </thead>\n",
       "  <tbody>\n",
       "    <tr>\n",
       "      <th>Actual Active</th>\n",
       "      <td>1436</td>\n",
       "      <td>470</td>\n",
       "    </tr>\n",
       "    <tr>\n",
       "      <th>Actual Exited</th>\n",
       "      <td>164</td>\n",
       "      <td>328</td>\n",
       "    </tr>\n",
       "  </tbody>\n",
       "</table>\n",
       "</div>"
      ],
      "text/plain": [
       "               Predicted Active  Predicted Exited\n",
       "Actual Active              1436               470\n",
       "Actual Exited               164               328"
      ]
     },
     "execution_count": 31,
     "metadata": {},
     "output_type": "execute_result"
    }
   ],
   "source": [
    "# Display the confusion matrix\n",
    "cm = confusion_matrix(y_test, y_pred)\n",
    "cm_df = pd.DataFrame(cm, index=[\"Actual Active\", \"Actual Exited\"], columns=[\"Predicted Active\", \"Predicted Exited\"])\n",
    "\n",
    "cm_df"
   ]
  },
  {
   "cell_type": "code",
   "execution_count": 32,
   "id": "8846ce25",
   "metadata": {
    "scrolled": true
   },
   "outputs": [
    {
     "name": "stdout",
     "output_type": "stream",
     "text": [
      "smoteenn rfc classification report\n",
      "                   pre       rec       spe        f1       geo       iba       sup\n",
      "\n",
      "          0       0.90      0.75      0.67      0.82      0.71      0.51      1906\n",
      "          1       0.41      0.67      0.75      0.51      0.71      0.50       492\n",
      "\n",
      "avg / total       0.80      0.74      0.68      0.76      0.71      0.50      2398\n",
      "\n"
     ]
    }
   ],
   "source": [
    "# Print the imbalanced classification report\n",
    "from imblearn.metrics import classification_report_imbalanced\n",
    "print(f'smoteenn rfc classification report')\n",
    "print(classification_report_imbalanced(y_test, y_pred))"
   ]
  },
  {
   "cell_type": "markdown",
   "id": "8090a38d",
   "metadata": {},
   "source": [
    "### XGBoost Classifier with SMOTEENN"
   ]
  },
  {
   "cell_type": "code",
   "execution_count": 33,
   "id": "12251571",
   "metadata": {},
   "outputs": [],
   "source": [
    "# Initiate the model\n",
    "smoteenn_xgb = XGBClassifier()\n",
    "# Fit the model\n",
    "smoteenn_xgb_model =smoteenn_xgb.fit(X_resample, y_resample.ravel())\n",
    "# Make Predictions\n",
    "y_pred = smoteenn_xgb_model.predict(X_test)"
   ]
  },
  {
   "cell_type": "code",
   "execution_count": 34,
   "id": "324ad2dc",
   "metadata": {},
   "outputs": [
    {
     "data": {
      "text/plain": [
       "0.7069299772221227"
      ]
     },
     "execution_count": 34,
     "metadata": {},
     "output_type": "execute_result"
    }
   ],
   "source": [
    "# Calculated the balanced accuracy score\n",
    "smoteenn_xgb_accuracy = balanced_accuracy_score(y_test, y_pred)\n",
    "smoteenn_xgb_accuracy"
   ]
  },
  {
   "cell_type": "code",
   "execution_count": 35,
   "id": "c0a7623d",
   "metadata": {},
   "outputs": [
    {
     "data": {
      "text/html": [
       "<div>\n",
       "<style scoped>\n",
       "    .dataframe tbody tr th:only-of-type {\n",
       "        vertical-align: middle;\n",
       "    }\n",
       "\n",
       "    .dataframe tbody tr th {\n",
       "        vertical-align: top;\n",
       "    }\n",
       "\n",
       "    .dataframe thead th {\n",
       "        text-align: right;\n",
       "    }\n",
       "</style>\n",
       "<table border=\"1\" class=\"dataframe\">\n",
       "  <thead>\n",
       "    <tr style=\"text-align: right;\">\n",
       "      <th></th>\n",
       "      <th>Predicted Active</th>\n",
       "      <th>Predicted Exited</th>\n",
       "    </tr>\n",
       "  </thead>\n",
       "  <tbody>\n",
       "    <tr>\n",
       "      <th>Actual Active</th>\n",
       "      <td>1521</td>\n",
       "      <td>385</td>\n",
       "    </tr>\n",
       "    <tr>\n",
       "      <th>Actual Exited</th>\n",
       "      <td>189</td>\n",
       "      <td>303</td>\n",
       "    </tr>\n",
       "  </tbody>\n",
       "</table>\n",
       "</div>"
      ],
      "text/plain": [
       "               Predicted Active  Predicted Exited\n",
       "Actual Active              1521               385\n",
       "Actual Exited               189               303"
      ]
     },
     "execution_count": 35,
     "metadata": {},
     "output_type": "execute_result"
    }
   ],
   "source": [
    "# Display the confusion matrix\n",
    "cm = confusion_matrix(y_test, y_pred)\n",
    "cm_df = pd.DataFrame(cm, index=[\"Actual Active\", \"Actual Exited\"], columns=[\"Predicted Active\", \"Predicted Exited\"])\n",
    "\n",
    "cm_df"
   ]
  },
  {
   "cell_type": "code",
   "execution_count": 36,
   "id": "3cdcba4e",
   "metadata": {
    "scrolled": true
   },
   "outputs": [
    {
     "name": "stdout",
     "output_type": "stream",
     "text": [
      "smoteenn xgb classification report\n",
      "                   pre       rec       spe        f1       geo       iba       sup\n",
      "\n",
      "          0       0.89      0.80      0.62      0.84      0.70      0.50      1906\n",
      "          1       0.44      0.62      0.80      0.51      0.70      0.48       492\n",
      "\n",
      "avg / total       0.80      0.76      0.65      0.77      0.70      0.50      2398\n",
      "\n"
     ]
    }
   ],
   "source": [
    "# Print the imbalanced classification report\n",
    "from imblearn.metrics import classification_report_imbalanced\n",
    "print(f'smoteenn xgb classification report')\n",
    "print(classification_report_imbalanced(y_test, y_pred))"
   ]
  },
  {
   "cell_type": "markdown",
   "id": "11de86c1",
   "metadata": {},
   "source": [
    "### Logistic Regression with SMOTEENN"
   ]
  },
  {
   "cell_type": "code",
   "execution_count": 37,
   "id": "15d43be6",
   "metadata": {},
   "outputs": [],
   "source": [
    "# Initiate the model\n",
    "smoteenn_lm = LogisticRegression()\n",
    "\n",
    "# Fit the model\n",
    "smoteenn_lm_model = smoteenn_lm.fit(X_resample, y_resample.ravel())\n",
    "\n",
    "# Make Predictions\n",
    "y_pred=smoteenn_lm_model.predict(X_test)"
   ]
  },
  {
   "cell_type": "code",
   "execution_count": 38,
   "id": "de3731ea",
   "metadata": {},
   "outputs": [
    {
     "data": {
      "text/plain": [
       "0.5984386063692746"
      ]
     },
     "execution_count": 38,
     "metadata": {},
     "output_type": "execute_result"
    }
   ],
   "source": [
    "# Calculated the balanced accuracy score\n",
    "smoteenn_lm_accuracy = balanced_accuracy_score(y_test, y_pred)\n",
    "smoteenn_lm_accuracy"
   ]
  },
  {
   "cell_type": "code",
   "execution_count": 39,
   "id": "dfd6e57a",
   "metadata": {},
   "outputs": [
    {
     "data": {
      "text/html": [
       "<div>\n",
       "<style scoped>\n",
       "    .dataframe tbody tr th:only-of-type {\n",
       "        vertical-align: middle;\n",
       "    }\n",
       "\n",
       "    .dataframe tbody tr th {\n",
       "        vertical-align: top;\n",
       "    }\n",
       "\n",
       "    .dataframe thead th {\n",
       "        text-align: right;\n",
       "    }\n",
       "</style>\n",
       "<table border=\"1\" class=\"dataframe\">\n",
       "  <thead>\n",
       "    <tr style=\"text-align: right;\">\n",
       "      <th></th>\n",
       "      <th>Predicted Active</th>\n",
       "      <th>Predicted Exited</th>\n",
       "    </tr>\n",
       "  </thead>\n",
       "  <tbody>\n",
       "    <tr>\n",
       "      <th>Actual Active</th>\n",
       "      <td>844</td>\n",
       "      <td>1062</td>\n",
       "    </tr>\n",
       "    <tr>\n",
       "      <th>Actual Exited</th>\n",
       "      <td>121</td>\n",
       "      <td>371</td>\n",
       "    </tr>\n",
       "  </tbody>\n",
       "</table>\n",
       "</div>"
      ],
      "text/plain": [
       "               Predicted Active  Predicted Exited\n",
       "Actual Active               844              1062\n",
       "Actual Exited               121               371"
      ]
     },
     "execution_count": 39,
     "metadata": {},
     "output_type": "execute_result"
    }
   ],
   "source": [
    "# Display the confusion matrix\n",
    "cm = confusion_matrix(y_test, y_pred)\n",
    "cm_df = pd.DataFrame(cm, index=[\"Actual Active\", \"Actual Exited\"], columns=[\"Predicted Active\", \"Predicted Exited\"])\n",
    "\n",
    "cm_df"
   ]
  },
  {
   "cell_type": "code",
   "execution_count": 40,
   "id": "780a9338",
   "metadata": {
    "scrolled": true
   },
   "outputs": [
    {
     "name": "stdout",
     "output_type": "stream",
     "text": [
      "smoteenn lm classification report\n",
      "                   pre       rec       spe        f1       geo       iba       sup\n",
      "\n",
      "          0       0.87      0.44      0.75      0.59      0.58      0.32      1906\n",
      "          1       0.26      0.75      0.44      0.39      0.58      0.34       492\n",
      "\n",
      "avg / total       0.75      0.51      0.69      0.55      0.58      0.33      2398\n",
      "\n"
     ]
    }
   ],
   "source": [
    "# Print the imbalanced classification report\n",
    "from imblearn.metrics import classification_report_imbalanced\n",
    "print(f'smoteenn lm classification report')\n",
    "print(classification_report_imbalanced(y_test, y_pred))"
   ]
  },
  {
   "cell_type": "code",
   "execution_count": null,
   "id": "08a3a629",
   "metadata": {},
   "outputs": [],
   "source": []
  }
 ],
 "metadata": {
  "kernelspec": {
   "display_name": "mlenv",
   "language": "python",
   "name": "mlenv"
  },
  "language_info": {
   "codemirror_mode": {
    "name": "ipython",
    "version": 3
   },
   "file_extension": ".py",
   "mimetype": "text/x-python",
   "name": "python",
   "nbconvert_exporter": "python",
   "pygments_lexer": "ipython3",
   "version": "3.9.15"
  }
 },
 "nbformat": 4,
 "nbformat_minor": 5
}
