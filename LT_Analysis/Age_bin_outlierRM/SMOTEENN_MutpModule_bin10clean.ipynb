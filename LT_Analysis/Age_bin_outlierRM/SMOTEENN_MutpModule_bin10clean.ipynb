{
 "cells": [
  {
   "cell_type": "code",
   "execution_count": 1,
   "id": "7781110c",
   "metadata": {},
   "outputs": [],
   "source": [
    "import pandas as pd\n",
    "import matplotlib.pyplot as plt"
   ]
  },
  {
   "cell_type": "code",
   "execution_count": 2,
   "id": "0740fec9",
   "metadata": {
    "scrolled": false
   },
   "outputs": [
    {
     "data": {
      "text/html": [
       "<div>\n",
       "<style scoped>\n",
       "    .dataframe tbody tr th:only-of-type {\n",
       "        vertical-align: middle;\n",
       "    }\n",
       "\n",
       "    .dataframe tbody tr th {\n",
       "        vertical-align: top;\n",
       "    }\n",
       "\n",
       "    .dataframe thead th {\n",
       "        text-align: right;\n",
       "    }\n",
       "</style>\n",
       "<table border=\"1\" class=\"dataframe\">\n",
       "  <thead>\n",
       "    <tr style=\"text-align: right;\">\n",
       "      <th></th>\n",
       "      <th>Unnamed: 0</th>\n",
       "      <th>CreditScore</th>\n",
       "      <th>Age</th>\n",
       "      <th>Tenure</th>\n",
       "      <th>Balance</th>\n",
       "      <th>NumOfProducts</th>\n",
       "      <th>HasCrCard</th>\n",
       "      <th>IsActiveMember</th>\n",
       "      <th>EstimatedSalary</th>\n",
       "      <th>Exited</th>\n",
       "      <th>bin_age</th>\n",
       "      <th>gender_0</th>\n",
       "      <th>gender_1</th>\n",
       "    </tr>\n",
       "  </thead>\n",
       "  <tbody>\n",
       "    <tr>\n",
       "      <th>count</th>\n",
       "      <td>9589.000000</td>\n",
       "      <td>9589.000000</td>\n",
       "      <td>9589.000000</td>\n",
       "      <td>9589.000000</td>\n",
       "      <td>9589.000000</td>\n",
       "      <td>9589.000000</td>\n",
       "      <td>9589.000000</td>\n",
       "      <td>9589.000000</td>\n",
       "      <td>9589.000000</td>\n",
       "      <td>9589.000000</td>\n",
       "      <td>9589.000000</td>\n",
       "      <td>9589.000000</td>\n",
       "      <td>9589.000000</td>\n",
       "    </tr>\n",
       "    <tr>\n",
       "      <th>mean</th>\n",
       "      <td>4794.000000</td>\n",
       "      <td>650.287830</td>\n",
       "      <td>37.660444</td>\n",
       "      <td>5.013974</td>\n",
       "      <td>76552.236761</td>\n",
       "      <td>1.530921</td>\n",
       "      <td>0.705809</td>\n",
       "      <td>0.502138</td>\n",
       "      <td>100200.278401</td>\n",
       "      <td>0.202628</td>\n",
       "      <td>2.210241</td>\n",
       "      <td>0.453958</td>\n",
       "      <td>0.546042</td>\n",
       "    </tr>\n",
       "    <tr>\n",
       "      <th>std</th>\n",
       "      <td>2768.250199</td>\n",
       "      <td>96.660575</td>\n",
       "      <td>8.644055</td>\n",
       "      <td>2.888560</td>\n",
       "      <td>62422.133272</td>\n",
       "      <td>0.581498</td>\n",
       "      <td>0.455702</td>\n",
       "      <td>0.500022</td>\n",
       "      <td>57500.956105</td>\n",
       "      <td>0.401979</td>\n",
       "      <td>0.901729</td>\n",
       "      <td>0.497902</td>\n",
       "      <td>0.497902</td>\n",
       "    </tr>\n",
       "    <tr>\n",
       "      <th>min</th>\n",
       "      <td>0.000000</td>\n",
       "      <td>350.000000</td>\n",
       "      <td>18.000000</td>\n",
       "      <td>0.000000</td>\n",
       "      <td>0.000000</td>\n",
       "      <td>1.000000</td>\n",
       "      <td>0.000000</td>\n",
       "      <td>0.000000</td>\n",
       "      <td>11.580000</td>\n",
       "      <td>0.000000</td>\n",
       "      <td>0.000000</td>\n",
       "      <td>0.000000</td>\n",
       "      <td>0.000000</td>\n",
       "    </tr>\n",
       "    <tr>\n",
       "      <th>25%</th>\n",
       "      <td>2397.000000</td>\n",
       "      <td>583.000000</td>\n",
       "      <td>32.000000</td>\n",
       "      <td>3.000000</td>\n",
       "      <td>0.000000</td>\n",
       "      <td>1.000000</td>\n",
       "      <td>0.000000</td>\n",
       "      <td>0.000000</td>\n",
       "      <td>51226.320000</td>\n",
       "      <td>0.000000</td>\n",
       "      <td>2.000000</td>\n",
       "      <td>0.000000</td>\n",
       "      <td>0.000000</td>\n",
       "    </tr>\n",
       "    <tr>\n",
       "      <th>50%</th>\n",
       "      <td>4794.000000</td>\n",
       "      <td>652.000000</td>\n",
       "      <td>37.000000</td>\n",
       "      <td>5.000000</td>\n",
       "      <td>97266.100000</td>\n",
       "      <td>1.000000</td>\n",
       "      <td>1.000000</td>\n",
       "      <td>1.000000</td>\n",
       "      <td>100335.550000</td>\n",
       "      <td>0.000000</td>\n",
       "      <td>2.000000</td>\n",
       "      <td>0.000000</td>\n",
       "      <td>1.000000</td>\n",
       "    </tr>\n",
       "    <tr>\n",
       "      <th>75%</th>\n",
       "      <td>7191.000000</td>\n",
       "      <td>717.000000</td>\n",
       "      <td>43.000000</td>\n",
       "      <td>7.000000</td>\n",
       "      <td>127661.690000</td>\n",
       "      <td>2.000000</td>\n",
       "      <td>1.000000</td>\n",
       "      <td>1.000000</td>\n",
       "      <td>149458.730000</td>\n",
       "      <td>0.000000</td>\n",
       "      <td>3.000000</td>\n",
       "      <td>1.000000</td>\n",
       "      <td>1.000000</td>\n",
       "    </tr>\n",
       "    <tr>\n",
       "      <th>max</th>\n",
       "      <td>9588.000000</td>\n",
       "      <td>850.000000</td>\n",
       "      <td>61.000000</td>\n",
       "      <td>10.000000</td>\n",
       "      <td>250898.090000</td>\n",
       "      <td>4.000000</td>\n",
       "      <td>1.000000</td>\n",
       "      <td>1.000000</td>\n",
       "      <td>199992.480000</td>\n",
       "      <td>1.000000</td>\n",
       "      <td>5.000000</td>\n",
       "      <td>1.000000</td>\n",
       "      <td>1.000000</td>\n",
       "    </tr>\n",
       "  </tbody>\n",
       "</table>\n",
       "</div>"
      ],
      "text/plain": [
       "        Unnamed: 0  CreditScore          Age       Tenure        Balance  \\\n",
       "count  9589.000000  9589.000000  9589.000000  9589.000000    9589.000000   \n",
       "mean   4794.000000   650.287830    37.660444     5.013974   76552.236761   \n",
       "std    2768.250199    96.660575     8.644055     2.888560   62422.133272   \n",
       "min       0.000000   350.000000    18.000000     0.000000       0.000000   \n",
       "25%    2397.000000   583.000000    32.000000     3.000000       0.000000   \n",
       "50%    4794.000000   652.000000    37.000000     5.000000   97266.100000   \n",
       "75%    7191.000000   717.000000    43.000000     7.000000  127661.690000   \n",
       "max    9588.000000   850.000000    61.000000    10.000000  250898.090000   \n",
       "\n",
       "       NumOfProducts    HasCrCard  IsActiveMember  EstimatedSalary  \\\n",
       "count    9589.000000  9589.000000     9589.000000      9589.000000   \n",
       "mean        1.530921     0.705809        0.502138    100200.278401   \n",
       "std         0.581498     0.455702        0.500022     57500.956105   \n",
       "min         1.000000     0.000000        0.000000        11.580000   \n",
       "25%         1.000000     0.000000        0.000000     51226.320000   \n",
       "50%         1.000000     1.000000        1.000000    100335.550000   \n",
       "75%         2.000000     1.000000        1.000000    149458.730000   \n",
       "max         4.000000     1.000000        1.000000    199992.480000   \n",
       "\n",
       "            Exited      bin_age     gender_0     gender_1  \n",
       "count  9589.000000  9589.000000  9589.000000  9589.000000  \n",
       "mean      0.202628     2.210241     0.453958     0.546042  \n",
       "std       0.401979     0.901729     0.497902     0.497902  \n",
       "min       0.000000     0.000000     0.000000     0.000000  \n",
       "25%       0.000000     2.000000     0.000000     0.000000  \n",
       "50%       0.000000     2.000000     0.000000     1.000000  \n",
       "75%       0.000000     3.000000     1.000000     1.000000  \n",
       "max       1.000000     5.000000     1.000000     1.000000  "
      ]
     },
     "execution_count": 2,
     "metadata": {},
     "output_type": "execute_result"
    }
   ],
   "source": [
    "#Read Churn Dataset and get summary of basic statistics\n",
    "df=pd.read_csv('./Resources/bin_10_clean.csv')\n",
    "df.describe()"
   ]
  },
  {
   "cell_type": "code",
   "execution_count": 3,
   "id": "30afa0ef",
   "metadata": {},
   "outputs": [
    {
     "name": "stdout",
     "output_type": "stream",
     "text": [
      "<class 'pandas.core.frame.DataFrame'>\n",
      "RangeIndex: 9589 entries, 0 to 9588\n",
      "Data columns (total 14 columns):\n",
      " #   Column           Non-Null Count  Dtype  \n",
      "---  ------           --------------  -----  \n",
      " 0   Unnamed: 0       9589 non-null   int64  \n",
      " 1   CreditScore      9589 non-null   int64  \n",
      " 2   Geography        9589 non-null   object \n",
      " 3   Age              9589 non-null   int64  \n",
      " 4   Tenure           9589 non-null   int64  \n",
      " 5   Balance          9589 non-null   float64\n",
      " 6   NumOfProducts    9589 non-null   int64  \n",
      " 7   HasCrCard        9589 non-null   int64  \n",
      " 8   IsActiveMember   9589 non-null   int64  \n",
      " 9   EstimatedSalary  9589 non-null   float64\n",
      " 10  Exited           9589 non-null   int64  \n",
      " 11  bin_age          9589 non-null   int64  \n",
      " 12  gender_0         9589 non-null   int64  \n",
      " 13  gender_1         9589 non-null   int64  \n",
      "dtypes: float64(2), int64(11), object(1)\n",
      "memory usage: 1.0+ MB\n"
     ]
    }
   ],
   "source": [
    "df.info()"
   ]
  },
  {
   "cell_type": "markdown",
   "id": "4340c4d2",
   "metadata": {},
   "source": [
    "### Smoteenn Remove Age Outliers"
   ]
  },
  {
   "cell_type": "code",
   "execution_count": 4,
   "id": "54b9c6c0",
   "metadata": {},
   "outputs": [],
   "source": [
    "import warnings\n",
    "warnings.filterwarnings('ignore')\n",
    "\n",
    "import numpy as np\n",
    "import pandas as pd"
   ]
  },
  {
   "cell_type": "code",
   "execution_count": 5,
   "id": "139627f1",
   "metadata": {},
   "outputs": [],
   "source": [
    "from pathlib import Path\n",
    "from collections import Counter\n",
    "\n",
    "from sklearn.preprocessing import StandardScaler\n",
    "from sklearn.metrics import balanced_accuracy_score\n",
    "from sklearn.metrics import confusion_matrix\n",
    "from imblearn.metrics import classification_report_imbalanced\n",
    "from sklearn.preprocessing import LabelEncoder\n",
    "from sklearn.preprocessing import OneHotEncoder\n",
    "from sklearn.compose import ColumnTransformer"
   ]
  },
  {
   "cell_type": "code",
   "execution_count": 12,
   "id": "082e7bca",
   "metadata": {},
   "outputs": [],
   "source": [
    "#Create Features\n",
    "X = pd.get_dummies(df, columns=['Geography'])\n",
    "X = X.drop([\"Exited\"], axis=1)\n",
    "\n",
    "# Create our target\n",
    "y = df[\"Exited\"]"
   ]
  },
  {
   "cell_type": "code",
   "execution_count": 13,
   "id": "0932480c",
   "metadata": {
    "scrolled": false
   },
   "outputs": [
    {
     "data": {
      "text/plain": [
       "0    7646\n",
       "1    1943\n",
       "Name: Exited, dtype: int64"
      ]
     },
     "execution_count": 13,
     "metadata": {},
     "output_type": "execute_result"
    }
   ],
   "source": [
    "# Check the balance of our target values\n",
    "y.value_counts()"
   ]
  },
  {
   "cell_type": "code",
   "execution_count": 14,
   "id": "27cef725",
   "metadata": {},
   "outputs": [
    {
     "data": {
      "text/plain": [
       "Counter({0: 5740, 1: 1451})"
      ]
     },
     "execution_count": 14,
     "metadata": {},
     "output_type": "execute_result"
    }
   ],
   "source": [
    "from sklearn.model_selection import train_test_split\n",
    "\n",
    "X_train, X_test, y_train, y_test = train_test_split(X, y, random_state=42)\n",
    "Counter(y_train)"
   ]
  },
  {
   "cell_type": "code",
   "execution_count": 15,
   "id": "7a1e3292",
   "metadata": {},
   "outputs": [],
   "source": [
    "# Standardize the data with StandardScaler().\n",
    "scaler = StandardScaler().fit(X_train)\n",
    "\n",
    "X_train = scaler.transform(X_train)\n",
    "X_test = scaler.transform(X_test)"
   ]
  },
  {
   "cell_type": "code",
   "execution_count": 16,
   "id": "e8023761",
   "metadata": {},
   "outputs": [
    {
     "data": {
      "text/plain": [
       "Counter({0: 3804, 1: 5080})"
      ]
     },
     "execution_count": 16,
     "metadata": {},
     "output_type": "execute_result"
    }
   ],
   "source": [
    "# Combined over and under sampling for imbalanced classification\n",
    "from imblearn.combine import SMOTEENN\n",
    "\n",
    "# define sampling\n",
    "comb_sample = SMOTEENN(random_state=42)\n",
    "X_resample, y_resample = comb_sample.fit_resample(X_train, y_train)\n",
    "\n",
    "# Check if SMOTE-ENN were properly applied\n",
    "Counter(y_resample)"
   ]
  },
  {
   "cell_type": "markdown",
   "id": "eecfab56",
   "metadata": {},
   "source": [
    "### Fit Different Module Define"
   ]
  },
  {
   "cell_type": "code",
   "execution_count": 17,
   "id": "2941a354",
   "metadata": {},
   "outputs": [],
   "source": [
    "from sklearn.linear_model import LogisticRegression\n",
    "from sklearn.neighbors import KNeighborsClassifier\n",
    "from sklearn.svm import SVC\n",
    "from sklearn.tree import DecisionTreeClassifier\n",
    "from sklearn.ensemble import RandomForestClassifier\n",
    "from sklearn.ensemble import AdaBoostClassifier\n",
    "from xgboost import XGBClassifier"
   ]
  },
  {
   "cell_type": "markdown",
   "id": "ca5be061",
   "metadata": {},
   "source": [
    "### AdaBoost Model with SMOTEENN"
   ]
  },
  {
   "cell_type": "code",
   "execution_count": 18,
   "id": "a325aa90",
   "metadata": {},
   "outputs": [],
   "source": [
    "# Initiate the model\n",
    "smoteenn_adb = AdaBoostClassifier()\n",
    "\n",
    "# Fit the model\n",
    "smoteenn_adb_model = smoteenn_adb.fit(X_resample, y_resample.ravel())\n",
    "\n",
    "# Make Predictions\n",
    "y_pred = smoteenn_adb_model.predict(X_test)"
   ]
  },
  {
   "cell_type": "code",
   "execution_count": 19,
   "id": "f7802530",
   "metadata": {},
   "outputs": [
    {
     "data": {
      "text/plain": [
       "0.7574081420247571"
      ]
     },
     "execution_count": 19,
     "metadata": {},
     "output_type": "execute_result"
    }
   ],
   "source": [
    "# Calculated the balanced accuracy score\n",
    "smoteenn_adb_accuracy = balanced_accuracy_score(y_test, y_pred)\n",
    "smoteenn_adb_accuracy"
   ]
  },
  {
   "cell_type": "code",
   "execution_count": 20,
   "id": "ea45d3f1",
   "metadata": {
    "scrolled": true
   },
   "outputs": [
    {
     "data": {
      "text/html": [
       "<div>\n",
       "<style scoped>\n",
       "    .dataframe tbody tr th:only-of-type {\n",
       "        vertical-align: middle;\n",
       "    }\n",
       "\n",
       "    .dataframe tbody tr th {\n",
       "        vertical-align: top;\n",
       "    }\n",
       "\n",
       "    .dataframe thead th {\n",
       "        text-align: right;\n",
       "    }\n",
       "</style>\n",
       "<table border=\"1\" class=\"dataframe\">\n",
       "  <thead>\n",
       "    <tr style=\"text-align: right;\">\n",
       "      <th></th>\n",
       "      <th>Predicted Active</th>\n",
       "      <th>Predicted Exited</th>\n",
       "    </tr>\n",
       "  </thead>\n",
       "  <tbody>\n",
       "    <tr>\n",
       "      <th>Actual Active</th>\n",
       "      <td>1419</td>\n",
       "      <td>487</td>\n",
       "    </tr>\n",
       "    <tr>\n",
       "      <th>Actual Exited</th>\n",
       "      <td>113</td>\n",
       "      <td>379</td>\n",
       "    </tr>\n",
       "  </tbody>\n",
       "</table>\n",
       "</div>"
      ],
      "text/plain": [
       "               Predicted Active  Predicted Exited\n",
       "Actual Active              1419               487\n",
       "Actual Exited               113               379"
      ]
     },
     "execution_count": 20,
     "metadata": {},
     "output_type": "execute_result"
    }
   ],
   "source": [
    "# Display the confusion matrix\n",
    "cm = confusion_matrix(y_test, y_pred)\n",
    "cm_df = pd.DataFrame(cm, index=[\"Actual Active\", \"Actual Exited\"], columns=[\"Predicted Active\", \"Predicted Exited\"])\n",
    "\n",
    "cm_df"
   ]
  },
  {
   "cell_type": "code",
   "execution_count": 21,
   "id": "a5c2b155",
   "metadata": {
    "scrolled": true
   },
   "outputs": [
    {
     "name": "stdout",
     "output_type": "stream",
     "text": [
      "smoteenn adb classification report\n",
      "                   pre       rec       spe        f1       geo       iba       sup\n",
      "\n",
      "          0       0.93      0.74      0.77      0.83      0.76      0.57      1906\n",
      "          1       0.44      0.77      0.74      0.56      0.76      0.57       492\n",
      "\n",
      "avg / total       0.83      0.75      0.77      0.77      0.76      0.57      2398\n",
      "\n"
     ]
    }
   ],
   "source": [
    "# Print the imbalanced classification report\n",
    "from imblearn.metrics import classification_report_imbalanced\n",
    "print(f'smoteenn adb classification report')\n",
    "print(classification_report_imbalanced(y_test, y_pred))"
   ]
  },
  {
   "cell_type": "markdown",
   "id": "20df655e",
   "metadata": {},
   "source": [
    "### KNN with SMOTEENN"
   ]
  },
  {
   "cell_type": "code",
   "execution_count": 22,
   "id": "413908e3",
   "metadata": {},
   "outputs": [],
   "source": [
    "# Initiate the model\n",
    "smoteenn_knn = KNeighborsClassifier()\n",
    "\n",
    "# Fit the model\n",
    "smoteenn_knn_model = smoteenn_knn.fit(X_resample, y_resample.ravel())\n",
    "\n",
    "# Make Predictions\n",
    "y_pred=smoteenn_knn_model.predict(X_test)"
   ]
  },
  {
   "cell_type": "code",
   "execution_count": 23,
   "id": "c6e75391",
   "metadata": {},
   "outputs": [
    {
     "data": {
      "text/plain": [
       "0.7094391694179272"
      ]
     },
     "execution_count": 23,
     "metadata": {},
     "output_type": "execute_result"
    }
   ],
   "source": [
    "# Calculated the balanced accuracy score\n",
    "smoteenn_knn_accuracy = balanced_accuracy_score(y_test, y_pred)\n",
    "smoteenn_knn_accuracy"
   ]
  },
  {
   "cell_type": "code",
   "execution_count": 24,
   "id": "9682e803",
   "metadata": {},
   "outputs": [
    {
     "data": {
      "text/html": [
       "<div>\n",
       "<style scoped>\n",
       "    .dataframe tbody tr th:only-of-type {\n",
       "        vertical-align: middle;\n",
       "    }\n",
       "\n",
       "    .dataframe tbody tr th {\n",
       "        vertical-align: top;\n",
       "    }\n",
       "\n",
       "    .dataframe thead th {\n",
       "        text-align: right;\n",
       "    }\n",
       "</style>\n",
       "<table border=\"1\" class=\"dataframe\">\n",
       "  <thead>\n",
       "    <tr style=\"text-align: right;\">\n",
       "      <th></th>\n",
       "      <th>Predicted Active</th>\n",
       "      <th>Predicted Exited</th>\n",
       "    </tr>\n",
       "  </thead>\n",
       "  <tbody>\n",
       "    <tr>\n",
       "      <th>Actual Active</th>\n",
       "      <td>1302</td>\n",
       "      <td>604</td>\n",
       "    </tr>\n",
       "    <tr>\n",
       "      <th>Actual Exited</th>\n",
       "      <td>130</td>\n",
       "      <td>362</td>\n",
       "    </tr>\n",
       "  </tbody>\n",
       "</table>\n",
       "</div>"
      ],
      "text/plain": [
       "               Predicted Active  Predicted Exited\n",
       "Actual Active              1302               604\n",
       "Actual Exited               130               362"
      ]
     },
     "execution_count": 24,
     "metadata": {},
     "output_type": "execute_result"
    }
   ],
   "source": [
    "# Display the confusion matrix\n",
    "cm = confusion_matrix(y_test, y_pred)\n",
    "cm_df = pd.DataFrame(cm, index=[\"Actual Active\", \"Actual Exited\"], columns=[\"Predicted Active\", \"Predicted Exited\"])\n",
    "\n",
    "cm_df"
   ]
  },
  {
   "cell_type": "code",
   "execution_count": 25,
   "id": "24d6a894",
   "metadata": {},
   "outputs": [
    {
     "name": "stdout",
     "output_type": "stream",
     "text": [
      "smoteenn knn classification report\n",
      "                   pre       rec       spe        f1       geo       iba       sup\n",
      "\n",
      "          0       0.91      0.68      0.74      0.78      0.71      0.50      1906\n",
      "          1       0.37      0.74      0.68      0.50      0.71      0.51       492\n",
      "\n",
      "avg / total       0.80      0.69      0.72      0.72      0.71      0.50      2398\n",
      "\n"
     ]
    }
   ],
   "source": [
    "# Print the imbalanced classification report\n",
    "from imblearn.metrics import classification_report_imbalanced\n",
    "print(f'smoteenn knn classification report')\n",
    "print(classification_report_imbalanced(y_test, y_pred))"
   ]
  },
  {
   "cell_type": "markdown",
   "id": "70146e05",
   "metadata": {},
   "source": [
    "### SVM with SMOTEENN"
   ]
  },
  {
   "cell_type": "code",
   "execution_count": 26,
   "id": "76ab3118",
   "metadata": {},
   "outputs": [],
   "source": [
    "# Initiate the model\n",
    "smoteenn_svc = SVC(kernel='rbf',probability=True)\n",
    "\n",
    "# Fit the model\n",
    "smoteenn_svc_model = smoteenn_svc.fit(X_resample, y_resample.ravel())\n",
    "\n",
    "# Make Predictions\n",
    "y_pred=smoteenn_svc_model.predict(X_test)"
   ]
  },
  {
   "cell_type": "code",
   "execution_count": 27,
   "id": "9381bc99",
   "metadata": {},
   "outputs": [
    {
     "data": {
      "text/plain": [
       "0.7481914194797772"
      ]
     },
     "execution_count": 27,
     "metadata": {},
     "output_type": "execute_result"
    }
   ],
   "source": [
    "# Calculated the balanced accuracy score\n",
    "smoteenn_svc_accuracy = balanced_accuracy_score(y_test, y_pred)\n",
    "smoteenn_svc_accuracy"
   ]
  },
  {
   "cell_type": "code",
   "execution_count": 28,
   "id": "479afc5a",
   "metadata": {},
   "outputs": [
    {
     "data": {
      "text/html": [
       "<div>\n",
       "<style scoped>\n",
       "    .dataframe tbody tr th:only-of-type {\n",
       "        vertical-align: middle;\n",
       "    }\n",
       "\n",
       "    .dataframe tbody tr th {\n",
       "        vertical-align: top;\n",
       "    }\n",
       "\n",
       "    .dataframe thead th {\n",
       "        text-align: right;\n",
       "    }\n",
       "</style>\n",
       "<table border=\"1\" class=\"dataframe\">\n",
       "  <thead>\n",
       "    <tr style=\"text-align: right;\">\n",
       "      <th></th>\n",
       "      <th>Predicted Active</th>\n",
       "      <th>Predicted Exited</th>\n",
       "    </tr>\n",
       "  </thead>\n",
       "  <tbody>\n",
       "    <tr>\n",
       "      <th>Actual Active</th>\n",
       "      <td>1349</td>\n",
       "      <td>557</td>\n",
       "    </tr>\n",
       "    <tr>\n",
       "      <th>Actual Exited</th>\n",
       "      <td>104</td>\n",
       "      <td>388</td>\n",
       "    </tr>\n",
       "  </tbody>\n",
       "</table>\n",
       "</div>"
      ],
      "text/plain": [
       "               Predicted Active  Predicted Exited\n",
       "Actual Active              1349               557\n",
       "Actual Exited               104               388"
      ]
     },
     "execution_count": 28,
     "metadata": {},
     "output_type": "execute_result"
    }
   ],
   "source": [
    "# Display the confusion matrix\n",
    "cm = confusion_matrix(y_test, y_pred)\n",
    "cm_df = pd.DataFrame(cm, index=[\"Actual Active\", \"Actual Exited\"], columns=[\"Predicted Active\", \"Predicted Exited\"])\n",
    "\n",
    "cm_df"
   ]
  },
  {
   "cell_type": "code",
   "execution_count": 29,
   "id": "b08e4bae",
   "metadata": {
    "scrolled": true
   },
   "outputs": [
    {
     "name": "stdout",
     "output_type": "stream",
     "text": [
      "smoteenn svc classification report\n",
      "                   pre       rec       spe        f1       geo       iba       sup\n",
      "\n",
      "          0       0.93      0.71      0.79      0.80      0.75      0.55      1906\n",
      "          1       0.41      0.79      0.71      0.54      0.75      0.56       492\n",
      "\n",
      "avg / total       0.82      0.72      0.77      0.75      0.75      0.56      2398\n",
      "\n"
     ]
    }
   ],
   "source": [
    "# Print the imbalanced classification report\n",
    "from imblearn.metrics import classification_report_imbalanced\n",
    "print(f'smoteenn svc classification report')\n",
    "print(classification_report_imbalanced(y_test, y_pred))"
   ]
  },
  {
   "cell_type": "markdown",
   "id": "16b391c1",
   "metadata": {},
   "source": [
    "### Decision Tree with SMOTEENN"
   ]
  },
  {
   "cell_type": "code",
   "execution_count": 30,
   "id": "09a2292e",
   "metadata": {},
   "outputs": [],
   "source": [
    "# Initiate the model\n",
    "smoteenn_tree = DecisionTreeClassifier()\n",
    "\n",
    "# Fit the model\n",
    "smoteenn_tree_model = smoteenn_tree.fit(X_resample, y_resample.ravel())\n",
    "\n",
    "# Make Predictions\n",
    "y_pred=smoteenn_tree_model.predict(X_test)"
   ]
  },
  {
   "cell_type": "code",
   "execution_count": 31,
   "id": "b0b8ef50",
   "metadata": {},
   "outputs": [
    {
     "data": {
      "text/plain": [
       "0.7504308175295814"
      ]
     },
     "execution_count": 31,
     "metadata": {},
     "output_type": "execute_result"
    }
   ],
   "source": [
    "# Calculated the balanced accuracy score\n",
    "smoteenn_tree_accuracy = balanced_accuracy_score(y_test, y_pred)\n",
    "smoteenn_tree_accuracy"
   ]
  },
  {
   "cell_type": "code",
   "execution_count": 32,
   "id": "0e1169a0",
   "metadata": {},
   "outputs": [
    {
     "data": {
      "text/html": [
       "<div>\n",
       "<style scoped>\n",
       "    .dataframe tbody tr th:only-of-type {\n",
       "        vertical-align: middle;\n",
       "    }\n",
       "\n",
       "    .dataframe tbody tr th {\n",
       "        vertical-align: top;\n",
       "    }\n",
       "\n",
       "    .dataframe thead th {\n",
       "        text-align: right;\n",
       "    }\n",
       "</style>\n",
       "<table border=\"1\" class=\"dataframe\">\n",
       "  <thead>\n",
       "    <tr style=\"text-align: right;\">\n",
       "      <th></th>\n",
       "      <th>Predicted Active</th>\n",
       "      <th>Predicted Exited</th>\n",
       "    </tr>\n",
       "  </thead>\n",
       "  <tbody>\n",
       "    <tr>\n",
       "      <th>Actual Active</th>\n",
       "      <td>1497</td>\n",
       "      <td>409</td>\n",
       "    </tr>\n",
       "    <tr>\n",
       "      <th>Actual Exited</th>\n",
       "      <td>140</td>\n",
       "      <td>352</td>\n",
       "    </tr>\n",
       "  </tbody>\n",
       "</table>\n",
       "</div>"
      ],
      "text/plain": [
       "               Predicted Active  Predicted Exited\n",
       "Actual Active              1497               409\n",
       "Actual Exited               140               352"
      ]
     },
     "execution_count": 32,
     "metadata": {},
     "output_type": "execute_result"
    }
   ],
   "source": [
    "# Display the confusion matrix\n",
    "cm = confusion_matrix(y_test, y_pred)\n",
    "cm_df = pd.DataFrame(cm, index=[\"Actual Active\", \"Actual Exited\"], columns=[\"Predicted Active\", \"Predicted Exited\"])\n",
    "\n",
    "cm_df"
   ]
  },
  {
   "cell_type": "code",
   "execution_count": 33,
   "id": "04686975",
   "metadata": {
    "scrolled": true
   },
   "outputs": [
    {
     "name": "stdout",
     "output_type": "stream",
     "text": [
      "smoteenn tree classification report\n",
      "                   pre       rec       spe        f1       geo       iba       sup\n",
      "\n",
      "          0       0.91      0.79      0.72      0.85      0.75      0.57      1906\n",
      "          1       0.46      0.72      0.79      0.56      0.75      0.56       492\n",
      "\n",
      "avg / total       0.82      0.77      0.73      0.79      0.75      0.56      2398\n",
      "\n"
     ]
    }
   ],
   "source": [
    "# Print the imbalanced classification report\n",
    "from imblearn.metrics import classification_report_imbalanced\n",
    "print(f'smoteenn tree classification report')\n",
    "print(classification_report_imbalanced(y_test, y_pred))"
   ]
  },
  {
   "cell_type": "markdown",
   "id": "4f53d168",
   "metadata": {},
   "source": [
    "### Random Forest with SMOTEENN"
   ]
  },
  {
   "cell_type": "code",
   "execution_count": 34,
   "id": "a4d44187",
   "metadata": {},
   "outputs": [],
   "source": [
    "# Initiate the model\n",
    "smoteenn_rfc = RandomForestClassifier()\n",
    "\n",
    "# Fit the model\n",
    "smoteenn_rfc_model = smoteenn_rfc.fit(X_resample, y_resample.ravel())\n",
    "\n",
    "# Make Predictions\n",
    "y_pred = smoteenn_rfc_model.predict(X_test)"
   ]
  },
  {
   "cell_type": "code",
   "execution_count": 35,
   "id": "7675bfcf",
   "metadata": {},
   "outputs": [
    {
     "data": {
      "text/plain": [
       "0.7781673619464422"
      ]
     },
     "execution_count": 35,
     "metadata": {},
     "output_type": "execute_result"
    }
   ],
   "source": [
    "# Calculated the balanced accuracy score\n",
    "smoteenn_rfc_accuracy = balanced_accuracy_score(y_test, y_pred)\n",
    "smoteenn_rfc_accuracy"
   ]
  },
  {
   "cell_type": "code",
   "execution_count": 36,
   "id": "234936c2",
   "metadata": {},
   "outputs": [
    {
     "data": {
      "text/html": [
       "<div>\n",
       "<style scoped>\n",
       "    .dataframe tbody tr th:only-of-type {\n",
       "        vertical-align: middle;\n",
       "    }\n",
       "\n",
       "    .dataframe tbody tr th {\n",
       "        vertical-align: top;\n",
       "    }\n",
       "\n",
       "    .dataframe thead th {\n",
       "        text-align: right;\n",
       "    }\n",
       "</style>\n",
       "<table border=\"1\" class=\"dataframe\">\n",
       "  <thead>\n",
       "    <tr style=\"text-align: right;\">\n",
       "      <th></th>\n",
       "      <th>Predicted Active</th>\n",
       "      <th>Predicted Exited</th>\n",
       "    </tr>\n",
       "  </thead>\n",
       "  <tbody>\n",
       "    <tr>\n",
       "      <th>Actual Active</th>\n",
       "      <td>1533</td>\n",
       "      <td>373</td>\n",
       "    </tr>\n",
       "    <tr>\n",
       "      <th>Actual Exited</th>\n",
       "      <td>122</td>\n",
       "      <td>370</td>\n",
       "    </tr>\n",
       "  </tbody>\n",
       "</table>\n",
       "</div>"
      ],
      "text/plain": [
       "               Predicted Active  Predicted Exited\n",
       "Actual Active              1533               373\n",
       "Actual Exited               122               370"
      ]
     },
     "execution_count": 36,
     "metadata": {},
     "output_type": "execute_result"
    }
   ],
   "source": [
    "# Display the confusion matrix\n",
    "cm = confusion_matrix(y_test, y_pred)\n",
    "cm_df = pd.DataFrame(cm, index=[\"Actual Active\", \"Actual Exited\"], columns=[\"Predicted Active\", \"Predicted Exited\"])\n",
    "\n",
    "cm_df"
   ]
  },
  {
   "cell_type": "code",
   "execution_count": 37,
   "id": "8846ce25",
   "metadata": {
    "scrolled": true
   },
   "outputs": [
    {
     "name": "stdout",
     "output_type": "stream",
     "text": [
      "smoteenn rfc classification report\n",
      "                   pre       rec       spe        f1       geo       iba       sup\n",
      "\n",
      "          0       0.93      0.80      0.75      0.86      0.78      0.61      1906\n",
      "          1       0.50      0.75      0.80      0.60      0.78      0.60       492\n",
      "\n",
      "avg / total       0.84      0.79      0.76      0.81      0.78      0.61      2398\n",
      "\n"
     ]
    }
   ],
   "source": [
    "# Print the imbalanced classification report\n",
    "from imblearn.metrics import classification_report_imbalanced\n",
    "print(f'smoteenn rfc classification report')\n",
    "print(classification_report_imbalanced(y_test, y_pred))"
   ]
  },
  {
   "cell_type": "markdown",
   "id": "8090a38d",
   "metadata": {},
   "source": [
    "### XGBoost Classifier with SMOTEENN"
   ]
  },
  {
   "cell_type": "code",
   "execution_count": 38,
   "id": "12251571",
   "metadata": {},
   "outputs": [],
   "source": [
    "# Initiate the model\n",
    "smoteenn_xgb = XGBClassifier()\n",
    "# Fit the model\n",
    "smoteenn_xgb_model =smoteenn_xgb.fit(X_resample, y_resample.ravel())\n",
    "# Make Predictions\n",
    "y_pred = smoteenn_xgb_model.predict(X_test)"
   ]
  },
  {
   "cell_type": "code",
   "execution_count": 39,
   "id": "324ad2dc",
   "metadata": {},
   "outputs": [
    {
     "data": {
      "text/plain": [
       "0.7757797370733414"
      ]
     },
     "execution_count": 39,
     "metadata": {},
     "output_type": "execute_result"
    }
   ],
   "source": [
    "# Calculated the balanced accuracy score\n",
    "smoteenn_xgb_accuracy = balanced_accuracy_score(y_test, y_pred)\n",
    "smoteenn_xgb_accuracy"
   ]
  },
  {
   "cell_type": "code",
   "execution_count": 40,
   "id": "c0a7623d",
   "metadata": {},
   "outputs": [
    {
     "data": {
      "text/html": [
       "<div>\n",
       "<style scoped>\n",
       "    .dataframe tbody tr th:only-of-type {\n",
       "        vertical-align: middle;\n",
       "    }\n",
       "\n",
       "    .dataframe tbody tr th {\n",
       "        vertical-align: top;\n",
       "    }\n",
       "\n",
       "    .dataframe thead th {\n",
       "        text-align: right;\n",
       "    }\n",
       "</style>\n",
       "<table border=\"1\" class=\"dataframe\">\n",
       "  <thead>\n",
       "    <tr style=\"text-align: right;\">\n",
       "      <th></th>\n",
       "      <th>Predicted Active</th>\n",
       "      <th>Predicted Exited</th>\n",
       "    </tr>\n",
       "  </thead>\n",
       "  <tbody>\n",
       "    <tr>\n",
       "      <th>Actual Active</th>\n",
       "      <td>1613</td>\n",
       "      <td>293</td>\n",
       "    </tr>\n",
       "    <tr>\n",
       "      <th>Actual Exited</th>\n",
       "      <td>145</td>\n",
       "      <td>347</td>\n",
       "    </tr>\n",
       "  </tbody>\n",
       "</table>\n",
       "</div>"
      ],
      "text/plain": [
       "               Predicted Active  Predicted Exited\n",
       "Actual Active              1613               293\n",
       "Actual Exited               145               347"
      ]
     },
     "execution_count": 40,
     "metadata": {},
     "output_type": "execute_result"
    }
   ],
   "source": [
    "# Display the confusion matrix\n",
    "cm = confusion_matrix(y_test, y_pred)\n",
    "cm_df = pd.DataFrame(cm, index=[\"Actual Active\", \"Actual Exited\"], columns=[\"Predicted Active\", \"Predicted Exited\"])\n",
    "\n",
    "cm_df"
   ]
  },
  {
   "cell_type": "code",
   "execution_count": 41,
   "id": "3cdcba4e",
   "metadata": {
    "scrolled": true
   },
   "outputs": [
    {
     "name": "stdout",
     "output_type": "stream",
     "text": [
      "smoteenn xgb classification report\n",
      "                   pre       rec       spe        f1       geo       iba       sup\n",
      "\n",
      "          0       0.92      0.85      0.71      0.88      0.77      0.61      1906\n",
      "          1       0.54      0.71      0.85      0.61      0.77      0.59       492\n",
      "\n",
      "avg / total       0.84      0.82      0.73      0.83      0.77      0.60      2398\n",
      "\n"
     ]
    }
   ],
   "source": [
    "# Print the imbalanced classification report\n",
    "from imblearn.metrics import classification_report_imbalanced\n",
    "print(f'smoteenn xgb classification report')\n",
    "print(classification_report_imbalanced(y_test, y_pred))"
   ]
  },
  {
   "cell_type": "markdown",
   "id": "11de86c1",
   "metadata": {},
   "source": [
    "### Logistic Regression with SMOTEENN"
   ]
  },
  {
   "cell_type": "code",
   "execution_count": 42,
   "id": "15d43be6",
   "metadata": {},
   "outputs": [],
   "source": [
    "# Initiate the model\n",
    "smoteenn_lm = LogisticRegression()\n",
    "\n",
    "# Fit the model\n",
    "smoteenn_lm_model = smoteenn_lm.fit(X_resample, y_resample.ravel())\n",
    "\n",
    "# Make Predictions\n",
    "y_pred=smoteenn_lm_model.predict(X_test)"
   ]
  },
  {
   "cell_type": "code",
   "execution_count": 43,
   "id": "de3731ea",
   "metadata": {},
   "outputs": [
    {
     "data": {
      "text/plain": [
       "0.7074311758332693"
      ]
     },
     "execution_count": 43,
     "metadata": {},
     "output_type": "execute_result"
    }
   ],
   "source": [
    "# Calculated the balanced accuracy score\n",
    "smoteenn_lm_accuracy = balanced_accuracy_score(y_test, y_pred)\n",
    "smoteenn_lm_accuracy"
   ]
  },
  {
   "cell_type": "code",
   "execution_count": 44,
   "id": "dfd6e57a",
   "metadata": {},
   "outputs": [
    {
     "data": {
      "text/html": [
       "<div>\n",
       "<style scoped>\n",
       "    .dataframe tbody tr th:only-of-type {\n",
       "        vertical-align: middle;\n",
       "    }\n",
       "\n",
       "    .dataframe tbody tr th {\n",
       "        vertical-align: top;\n",
       "    }\n",
       "\n",
       "    .dataframe thead th {\n",
       "        text-align: right;\n",
       "    }\n",
       "</style>\n",
       "<table border=\"1\" class=\"dataframe\">\n",
       "  <thead>\n",
       "    <tr style=\"text-align: right;\">\n",
       "      <th></th>\n",
       "      <th>Predicted Active</th>\n",
       "      <th>Predicted Exited</th>\n",
       "    </tr>\n",
       "  </thead>\n",
       "  <tbody>\n",
       "    <tr>\n",
       "      <th>Actual Active</th>\n",
       "      <td>1182</td>\n",
       "      <td>724</td>\n",
       "    </tr>\n",
       "    <tr>\n",
       "      <th>Actual Exited</th>\n",
       "      <td>101</td>\n",
       "      <td>391</td>\n",
       "    </tr>\n",
       "  </tbody>\n",
       "</table>\n",
       "</div>"
      ],
      "text/plain": [
       "               Predicted Active  Predicted Exited\n",
       "Actual Active              1182               724\n",
       "Actual Exited               101               391"
      ]
     },
     "execution_count": 44,
     "metadata": {},
     "output_type": "execute_result"
    }
   ],
   "source": [
    "# Display the confusion matrix\n",
    "cm = confusion_matrix(y_test, y_pred)\n",
    "cm_df = pd.DataFrame(cm, index=[\"Actual Active\", \"Actual Exited\"], columns=[\"Predicted Active\", \"Predicted Exited\"])\n",
    "\n",
    "cm_df"
   ]
  },
  {
   "cell_type": "code",
   "execution_count": 45,
   "id": "780a9338",
   "metadata": {
    "scrolled": true
   },
   "outputs": [
    {
     "name": "stdout",
     "output_type": "stream",
     "text": [
      "smoteenn lm classification report\n",
      "                   pre       rec       spe        f1       geo       iba       sup\n",
      "\n",
      "          0       0.92      0.62      0.79      0.74      0.70      0.48      1906\n",
      "          1       0.35      0.79      0.62      0.49      0.70      0.50       492\n",
      "\n",
      "avg / total       0.80      0.66      0.76      0.69      0.70      0.49      2398\n",
      "\n"
     ]
    }
   ],
   "source": [
    "# Print the imbalanced classification report\n",
    "from imblearn.metrics import classification_report_imbalanced\n",
    "print(f'smoteenn lm classification report')\n",
    "print(classification_report_imbalanced(y_test, y_pred))"
   ]
  },
  {
   "cell_type": "code",
   "execution_count": null,
   "id": "08a3a629",
   "metadata": {},
   "outputs": [],
   "source": []
  }
 ],
 "metadata": {
  "kernelspec": {
   "display_name": "mlenv",
   "language": "python",
   "name": "mlenv"
  },
  "language_info": {
   "codemirror_mode": {
    "name": "ipython",
    "version": 3
   },
   "file_extension": ".py",
   "mimetype": "text/x-python",
   "name": "python",
   "nbconvert_exporter": "python",
   "pygments_lexer": "ipython3",
   "version": "3.9.15"
  }
 },
 "nbformat": 4,
 "nbformat_minor": 5
}
