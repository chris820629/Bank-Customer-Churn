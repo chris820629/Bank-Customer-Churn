{
 "cells": [
  {
   "cell_type": "code",
   "execution_count": 19,
   "id": "1de5e59c",
   "metadata": {},
   "outputs": [
    {
     "name": "stderr",
     "output_type": "stream",
     "text": [
      "2023-01-22 22:16:45.932143: I tensorflow/core/platform/cpu_feature_guard.cc:193] This TensorFlow binary is optimized with oneAPI Deep Neural Network Library (oneDNN) to use the following CPU instructions in performance-critical operations:  AVX2 FMA\n",
      "To enable them in other operations, rebuild TensorFlow with the appropriate compiler flags.\n"
     ]
    }
   ],
   "source": [
    "import pandas as pd\n",
    "from sklearn.model_selection import train_test_split\n",
    "from sklearn.metrics import accuracy_score\n",
    "from sklearn.metrics import confusion_matrix\n",
    "from sklearn.metrics import log_loss\n",
    "from sklearn.metrics import mean_squared_error as mse\n",
    "from sklearn.metrics import classification_report\n",
    "from sklearn.preprocessing import StandardScaler\n",
    "import tensorflow as tf\n",
    "from tensorflow import keras"
   ]
  },
  {
   "cell_type": "code",
   "execution_count": 10,
   "id": "6716f9ea",
   "metadata": {},
   "outputs": [],
   "source": [
    "df_a = pd.read_csv('a_out_df.csv')"
   ]
  },
  {
   "cell_type": "code",
   "execution_count": 11,
   "id": "29ce7761",
   "metadata": {},
   "outputs": [
    {
     "data": {
      "text/html": [
       "<div>\n",
       "<style scoped>\n",
       "    .dataframe tbody tr th:only-of-type {\n",
       "        vertical-align: middle;\n",
       "    }\n",
       "\n",
       "    .dataframe tbody tr th {\n",
       "        vertical-align: top;\n",
       "    }\n",
       "\n",
       "    .dataframe thead th {\n",
       "        text-align: right;\n",
       "    }\n",
       "</style>\n",
       "<table border=\"1\" class=\"dataframe\">\n",
       "  <thead>\n",
       "    <tr style=\"text-align: right;\">\n",
       "      <th></th>\n",
       "      <th>Unnamed: 0</th>\n",
       "      <th>CreditScore</th>\n",
       "      <th>Geography</th>\n",
       "      <th>Gender</th>\n",
       "      <th>Age</th>\n",
       "      <th>Tenure</th>\n",
       "      <th>Balance</th>\n",
       "      <th>NumOfProducts</th>\n",
       "      <th>HasCrCard</th>\n",
       "      <th>IsActiveMember</th>\n",
       "      <th>EstimatedSalary</th>\n",
       "      <th>Exited</th>\n",
       "      <th>gender</th>\n",
       "    </tr>\n",
       "  </thead>\n",
       "  <tbody>\n",
       "    <tr>\n",
       "      <th>0</th>\n",
       "      <td>0</td>\n",
       "      <td>619</td>\n",
       "      <td>France</td>\n",
       "      <td>Female</td>\n",
       "      <td>42</td>\n",
       "      <td>2</td>\n",
       "      <td>0.00</td>\n",
       "      <td>1</td>\n",
       "      <td>1</td>\n",
       "      <td>1</td>\n",
       "      <td>101348.88</td>\n",
       "      <td>1</td>\n",
       "      <td>0</td>\n",
       "    </tr>\n",
       "    <tr>\n",
       "      <th>1</th>\n",
       "      <td>1</td>\n",
       "      <td>608</td>\n",
       "      <td>Spain</td>\n",
       "      <td>Female</td>\n",
       "      <td>41</td>\n",
       "      <td>1</td>\n",
       "      <td>83807.86</td>\n",
       "      <td>1</td>\n",
       "      <td>0</td>\n",
       "      <td>1</td>\n",
       "      <td>112542.58</td>\n",
       "      <td>0</td>\n",
       "      <td>0</td>\n",
       "    </tr>\n",
       "    <tr>\n",
       "      <th>2</th>\n",
       "      <td>2</td>\n",
       "      <td>502</td>\n",
       "      <td>France</td>\n",
       "      <td>Female</td>\n",
       "      <td>42</td>\n",
       "      <td>8</td>\n",
       "      <td>159660.80</td>\n",
       "      <td>3</td>\n",
       "      <td>1</td>\n",
       "      <td>0</td>\n",
       "      <td>113931.57</td>\n",
       "      <td>1</td>\n",
       "      <td>0</td>\n",
       "    </tr>\n",
       "    <tr>\n",
       "      <th>3</th>\n",
       "      <td>3</td>\n",
       "      <td>699</td>\n",
       "      <td>France</td>\n",
       "      <td>Female</td>\n",
       "      <td>39</td>\n",
       "      <td>1</td>\n",
       "      <td>0.00</td>\n",
       "      <td>2</td>\n",
       "      <td>0</td>\n",
       "      <td>0</td>\n",
       "      <td>93826.63</td>\n",
       "      <td>0</td>\n",
       "      <td>0</td>\n",
       "    </tr>\n",
       "    <tr>\n",
       "      <th>4</th>\n",
       "      <td>4</td>\n",
       "      <td>850</td>\n",
       "      <td>Spain</td>\n",
       "      <td>Female</td>\n",
       "      <td>43</td>\n",
       "      <td>2</td>\n",
       "      <td>125510.82</td>\n",
       "      <td>1</td>\n",
       "      <td>1</td>\n",
       "      <td>1</td>\n",
       "      <td>79084.10</td>\n",
       "      <td>0</td>\n",
       "      <td>0</td>\n",
       "    </tr>\n",
       "  </tbody>\n",
       "</table>\n",
       "</div>"
      ],
      "text/plain": [
       "   Unnamed: 0  CreditScore Geography  Gender  Age  Tenure    Balance  \\\n",
       "0           0          619    France  Female   42       2       0.00   \n",
       "1           1          608     Spain  Female   41       1   83807.86   \n",
       "2           2          502    France  Female   42       8  159660.80   \n",
       "3           3          699    France  Female   39       1       0.00   \n",
       "4           4          850     Spain  Female   43       2  125510.82   \n",
       "\n",
       "   NumOfProducts  HasCrCard  IsActiveMember  EstimatedSalary  Exited  gender  \n",
       "0              1          1               1        101348.88       1       0  \n",
       "1              1          0               1        112542.58       0       0  \n",
       "2              3          1               0        113931.57       1       0  \n",
       "3              2          0               0         93826.63       0       0  \n",
       "4              1          1               1         79084.10       0       0  "
      ]
     },
     "execution_count": 11,
     "metadata": {},
     "output_type": "execute_result"
    }
   ],
   "source": [
    "df_a.head()"
   ]
  },
  {
   "cell_type": "code",
   "execution_count": 12,
   "id": "0f391252",
   "metadata": {},
   "outputs": [],
   "source": [
    "df_a = df_a.drop(['Unnamed: 0','Gender'],axis=1)\n",
    "df_a = pd.get_dummies(df_a)"
   ]
  },
  {
   "cell_type": "code",
   "execution_count": 13,
   "id": "0f3f06d3",
   "metadata": {},
   "outputs": [
    {
     "data": {
      "text/html": [
       "<div>\n",
       "<style scoped>\n",
       "    .dataframe tbody tr th:only-of-type {\n",
       "        vertical-align: middle;\n",
       "    }\n",
       "\n",
       "    .dataframe tbody tr th {\n",
       "        vertical-align: top;\n",
       "    }\n",
       "\n",
       "    .dataframe thead th {\n",
       "        text-align: right;\n",
       "    }\n",
       "</style>\n",
       "<table border=\"1\" class=\"dataframe\">\n",
       "  <thead>\n",
       "    <tr style=\"text-align: right;\">\n",
       "      <th></th>\n",
       "      <th>CreditScore</th>\n",
       "      <th>Age</th>\n",
       "      <th>Tenure</th>\n",
       "      <th>Balance</th>\n",
       "      <th>NumOfProducts</th>\n",
       "      <th>HasCrCard</th>\n",
       "      <th>IsActiveMember</th>\n",
       "      <th>EstimatedSalary</th>\n",
       "      <th>Exited</th>\n",
       "      <th>gender</th>\n",
       "      <th>Geography_France</th>\n",
       "      <th>Geography_Germany</th>\n",
       "      <th>Geography_Spain</th>\n",
       "    </tr>\n",
       "  </thead>\n",
       "  <tbody>\n",
       "    <tr>\n",
       "      <th>0</th>\n",
       "      <td>619</td>\n",
       "      <td>42</td>\n",
       "      <td>2</td>\n",
       "      <td>0.00</td>\n",
       "      <td>1</td>\n",
       "      <td>1</td>\n",
       "      <td>1</td>\n",
       "      <td>101348.88</td>\n",
       "      <td>1</td>\n",
       "      <td>0</td>\n",
       "      <td>1</td>\n",
       "      <td>0</td>\n",
       "      <td>0</td>\n",
       "    </tr>\n",
       "    <tr>\n",
       "      <th>1</th>\n",
       "      <td>608</td>\n",
       "      <td>41</td>\n",
       "      <td>1</td>\n",
       "      <td>83807.86</td>\n",
       "      <td>1</td>\n",
       "      <td>0</td>\n",
       "      <td>1</td>\n",
       "      <td>112542.58</td>\n",
       "      <td>0</td>\n",
       "      <td>0</td>\n",
       "      <td>0</td>\n",
       "      <td>0</td>\n",
       "      <td>1</td>\n",
       "    </tr>\n",
       "    <tr>\n",
       "      <th>2</th>\n",
       "      <td>502</td>\n",
       "      <td>42</td>\n",
       "      <td>8</td>\n",
       "      <td>159660.80</td>\n",
       "      <td>3</td>\n",
       "      <td>1</td>\n",
       "      <td>0</td>\n",
       "      <td>113931.57</td>\n",
       "      <td>1</td>\n",
       "      <td>0</td>\n",
       "      <td>1</td>\n",
       "      <td>0</td>\n",
       "      <td>0</td>\n",
       "    </tr>\n",
       "    <tr>\n",
       "      <th>3</th>\n",
       "      <td>699</td>\n",
       "      <td>39</td>\n",
       "      <td>1</td>\n",
       "      <td>0.00</td>\n",
       "      <td>2</td>\n",
       "      <td>0</td>\n",
       "      <td>0</td>\n",
       "      <td>93826.63</td>\n",
       "      <td>0</td>\n",
       "      <td>0</td>\n",
       "      <td>1</td>\n",
       "      <td>0</td>\n",
       "      <td>0</td>\n",
       "    </tr>\n",
       "    <tr>\n",
       "      <th>4</th>\n",
       "      <td>850</td>\n",
       "      <td>43</td>\n",
       "      <td>2</td>\n",
       "      <td>125510.82</td>\n",
       "      <td>1</td>\n",
       "      <td>1</td>\n",
       "      <td>1</td>\n",
       "      <td>79084.10</td>\n",
       "      <td>0</td>\n",
       "      <td>0</td>\n",
       "      <td>0</td>\n",
       "      <td>0</td>\n",
       "      <td>1</td>\n",
       "    </tr>\n",
       "  </tbody>\n",
       "</table>\n",
       "</div>"
      ],
      "text/plain": [
       "   CreditScore  Age  Tenure    Balance  NumOfProducts  HasCrCard  \\\n",
       "0          619   42       2       0.00              1          1   \n",
       "1          608   41       1   83807.86              1          0   \n",
       "2          502   42       8  159660.80              3          1   \n",
       "3          699   39       1       0.00              2          0   \n",
       "4          850   43       2  125510.82              1          1   \n",
       "\n",
       "   IsActiveMember  EstimatedSalary  Exited  gender  Geography_France  \\\n",
       "0               1        101348.88       1       0                 1   \n",
       "1               1        112542.58       0       0                 0   \n",
       "2               0        113931.57       1       0                 1   \n",
       "3               0         93826.63       0       0                 1   \n",
       "4               1         79084.10       0       0                 0   \n",
       "\n",
       "   Geography_Germany  Geography_Spain  \n",
       "0                  0                0  \n",
       "1                  0                1  \n",
       "2                  0                0  \n",
       "3                  0                0  \n",
       "4                  0                1  "
      ]
     },
     "execution_count": 13,
     "metadata": {},
     "output_type": "execute_result"
    }
   ],
   "source": [
    "df_a.head()"
   ]
  },
  {
   "cell_type": "code",
   "execution_count": 14,
   "id": "d5f050e4",
   "metadata": {},
   "outputs": [],
   "source": [
    "X = df_a.drop('Exited',axis=1)\n",
    "y = df_a['Exited']"
   ]
  },
  {
   "cell_type": "code",
   "execution_count": 15,
   "id": "f80f2938",
   "metadata": {},
   "outputs": [],
   "source": [
    "X_train, X_test, y_train, y_test = train_test_split(X,y,random_state=1)"
   ]
  },
  {
   "cell_type": "code",
   "execution_count": 18,
   "id": "5510ef34",
   "metadata": {},
   "outputs": [],
   "source": [
    "scaler = StandardScaler().fit(X_train)"
   ]
  },
  {
   "cell_type": "code",
   "execution_count": 28,
   "id": "0a65e7c7",
   "metadata": {},
   "outputs": [],
   "source": [
    "scaled_X_train = scaler.transform(X_train)\n",
    "scaled_X_test = scaler.transform(X_test)"
   ]
  },
  {
   "cell_type": "code",
   "execution_count": 20,
   "id": "4b3a114d",
   "metadata": {},
   "outputs": [
    {
     "name": "stderr",
     "output_type": "stream",
     "text": [
      "2023-01-22 22:17:44.064631: I tensorflow/core/platform/cpu_feature_guard.cc:193] This TensorFlow binary is optimized with oneAPI Deep Neural Network Library (oneDNN) to use the following CPU instructions in performance-critical operations:  AVX2 FMA\n",
      "To enable them in other operations, rebuild TensorFlow with the appropriate compiler flags.\n"
     ]
    }
   ],
   "source": [
    "nn = tf.keras.models.Sequential()"
   ]
  },
  {
   "cell_type": "code",
   "execution_count": 21,
   "id": "8502916f",
   "metadata": {},
   "outputs": [],
   "source": [
    "input_d = len(X.columns.tolist())"
   ]
  },
  {
   "cell_type": "code",
   "execution_count": 23,
   "id": "7ecce395",
   "metadata": {},
   "outputs": [],
   "source": [
    "nn.add(tf.keras.layers.Dense(units=1, activation=\"relu\", input_dim=input_d))"
   ]
  },
  {
   "cell_type": "code",
   "execution_count": 24,
   "id": "ce7e16f9",
   "metadata": {},
   "outputs": [],
   "source": [
    "nn.add(tf.keras.layers.Dense(units=1,activation='sigmoid'))"
   ]
  },
  {
   "cell_type": "code",
   "execution_count": 27,
   "id": "f6f27ded",
   "metadata": {},
   "outputs": [],
   "source": [
    "nn.compile(loss=\"binary_crossentropy\", optimizer=\"adam\", metrics=[\"accuracy\"])"
   ]
  },
  {
   "cell_type": "code",
   "execution_count": 30,
   "id": "5845ef64",
   "metadata": {},
   "outputs": [
    {
     "name": "stdout",
     "output_type": "stream",
     "text": [
      "Epoch 1/100\n",
      "225/225 [==============================] - 1s 2ms/step - loss: 0.6677 - accuracy: 0.7991\n",
      "Epoch 2/100\n",
      "225/225 [==============================] - 0s 1ms/step - loss: 0.6038 - accuracy: 0.7991\n",
      "Epoch 3/100\n",
      "225/225 [==============================] - 0s 2ms/step - loss: 0.5584 - accuracy: 0.7991\n",
      "Epoch 4/100\n",
      "225/225 [==============================] - 0s 2ms/step - loss: 0.5261 - accuracy: 0.7991\n",
      "Epoch 5/100\n",
      "225/225 [==============================] - 0s 2ms/step - loss: 0.5026 - accuracy: 0.7991\n",
      "Epoch 6/100\n",
      "225/225 [==============================] - 0s 1ms/step - loss: 0.4846 - accuracy: 0.7991\n",
      "Epoch 7/100\n",
      "225/225 [==============================] - 0s 2ms/step - loss: 0.4702 - accuracy: 0.7991\n",
      "Epoch 8/100\n",
      "225/225 [==============================] - 0s 2ms/step - loss: 0.4586 - accuracy: 0.7991\n",
      "Epoch 9/100\n",
      "225/225 [==============================] - 0s 2ms/step - loss: 0.4492 - accuracy: 0.7991\n",
      "Epoch 10/100\n",
      "225/225 [==============================] - 0s 2ms/step - loss: 0.4419 - accuracy: 0.7991\n",
      "Epoch 11/100\n",
      "225/225 [==============================] - 0s 1ms/step - loss: 0.4366 - accuracy: 0.7991\n",
      "Epoch 12/100\n",
      "225/225 [==============================] - 0s 1ms/step - loss: 0.4327 - accuracy: 0.7991\n",
      "Epoch 13/100\n",
      "225/225 [==============================] - 0s 1ms/step - loss: 0.4295 - accuracy: 0.7991\n",
      "Epoch 14/100\n",
      "225/225 [==============================] - 0s 1ms/step - loss: 0.4272 - accuracy: 0.7991\n",
      "Epoch 15/100\n",
      "225/225 [==============================] - 0s 1ms/step - loss: 0.4254 - accuracy: 0.7991\n",
      "Epoch 16/100\n",
      "225/225 [==============================] - 0s 1ms/step - loss: 0.4239 - accuracy: 0.7991\n",
      "Epoch 17/100\n",
      "225/225 [==============================] - 0s 1ms/step - loss: 0.4226 - accuracy: 0.7991\n",
      "Epoch 18/100\n",
      "225/225 [==============================] - 0s 1ms/step - loss: 0.4217 - accuracy: 0.7991\n",
      "Epoch 19/100\n",
      "225/225 [==============================] - 0s 1ms/step - loss: 0.4207 - accuracy: 0.7991\n",
      "Epoch 20/100\n",
      "225/225 [==============================] - 0s 1ms/step - loss: 0.4200 - accuracy: 0.7991\n",
      "Epoch 21/100\n",
      "225/225 [==============================] - 0s 1ms/step - loss: 0.4193 - accuracy: 0.7991\n",
      "Epoch 22/100\n",
      "225/225 [==============================] - 0s 1ms/step - loss: 0.4187 - accuracy: 0.7991\n",
      "Epoch 23/100\n",
      "225/225 [==============================] - 0s 1ms/step - loss: 0.4182 - accuracy: 0.7991\n",
      "Epoch 24/100\n",
      "225/225 [==============================] - 0s 1ms/step - loss: 0.4178 - accuracy: 0.7991\n",
      "Epoch 25/100\n",
      "225/225 [==============================] - 0s 1ms/step - loss: 0.4173 - accuracy: 0.7991\n",
      "Epoch 26/100\n",
      "225/225 [==============================] - 0s 1ms/step - loss: 0.4170 - accuracy: 0.7991\n",
      "Epoch 27/100\n",
      "225/225 [==============================] - 0s 1ms/step - loss: 0.4164 - accuracy: 0.7991\n",
      "Epoch 28/100\n",
      "225/225 [==============================] - 0s 1ms/step - loss: 0.4160 - accuracy: 0.8226\n",
      "Epoch 29/100\n",
      "225/225 [==============================] - 0s 1ms/step - loss: 0.4156 - accuracy: 0.8244\n",
      "Epoch 30/100\n",
      "225/225 [==============================] - 0s 1ms/step - loss: 0.4152 - accuracy: 0.8239\n",
      "Epoch 31/100\n",
      "225/225 [==============================] - 0s 1ms/step - loss: 0.4150 - accuracy: 0.8248\n",
      "Epoch 32/100\n",
      "225/225 [==============================] - 0s 1ms/step - loss: 0.4147 - accuracy: 0.8248\n",
      "Epoch 33/100\n",
      "225/225 [==============================] - 0s 1ms/step - loss: 0.4143 - accuracy: 0.8245\n",
      "Epoch 34/100\n",
      "225/225 [==============================] - 0s 1ms/step - loss: 0.4141 - accuracy: 0.8251\n",
      "Epoch 35/100\n",
      "225/225 [==============================] - 0s 1ms/step - loss: 0.4139 - accuracy: 0.8253\n",
      "Epoch 36/100\n",
      "225/225 [==============================] - 0s 1ms/step - loss: 0.4137 - accuracy: 0.8248\n",
      "Epoch 37/100\n",
      "225/225 [==============================] - 0s 1ms/step - loss: 0.4135 - accuracy: 0.8252\n",
      "Epoch 38/100\n",
      "225/225 [==============================] - 0s 1ms/step - loss: 0.4132 - accuracy: 0.8249\n",
      "Epoch 39/100\n",
      "225/225 [==============================] - 0s 1ms/step - loss: 0.4131 - accuracy: 0.8246\n",
      "Epoch 40/100\n",
      "225/225 [==============================] - 0s 1ms/step - loss: 0.4129 - accuracy: 0.8242\n",
      "Epoch 41/100\n",
      "225/225 [==============================] - 0s 1ms/step - loss: 0.4128 - accuracy: 0.8246\n",
      "Epoch 42/100\n",
      "225/225 [==============================] - 0s 1ms/step - loss: 0.4126 - accuracy: 0.8244\n",
      "Epoch 43/100\n",
      "225/225 [==============================] - 0s 1ms/step - loss: 0.4125 - accuracy: 0.8244\n",
      "Epoch 44/100\n",
      "225/225 [==============================] - 0s 1ms/step - loss: 0.4124 - accuracy: 0.8241\n",
      "Epoch 45/100\n",
      "225/225 [==============================] - 0s 1ms/step - loss: 0.4123 - accuracy: 0.8249\n",
      "Epoch 46/100\n",
      "225/225 [==============================] - 0s 1ms/step - loss: 0.4123 - accuracy: 0.8255\n",
      "Epoch 47/100\n",
      "225/225 [==============================] - 0s 1ms/step - loss: 0.4121 - accuracy: 0.8253\n",
      "Epoch 48/100\n",
      "225/225 [==============================] - 0s 1ms/step - loss: 0.4120 - accuracy: 0.8248\n",
      "Epoch 49/100\n",
      "225/225 [==============================] - 0s 1ms/step - loss: 0.4118 - accuracy: 0.8244\n",
      "Epoch 50/100\n",
      "225/225 [==============================] - 0s 1ms/step - loss: 0.4118 - accuracy: 0.8246\n",
      "Epoch 51/100\n",
      "225/225 [==============================] - 0s 2ms/step - loss: 0.4117 - accuracy: 0.8248\n",
      "Epoch 52/100\n",
      "225/225 [==============================] - 0s 1ms/step - loss: 0.4115 - accuracy: 0.8245\n",
      "Epoch 53/100\n",
      "225/225 [==============================] - 0s 1ms/step - loss: 0.4116 - accuracy: 0.8252\n",
      "Epoch 54/100\n",
      "225/225 [==============================] - 0s 1ms/step - loss: 0.4114 - accuracy: 0.8258\n",
      "Epoch 55/100\n",
      "225/225 [==============================] - 0s 1ms/step - loss: 0.4115 - accuracy: 0.8244\n",
      "Epoch 56/100\n",
      "225/225 [==============================] - 0s 1ms/step - loss: 0.4115 - accuracy: 0.8246\n",
      "Epoch 57/100\n",
      "225/225 [==============================] - 0s 1ms/step - loss: 0.4114 - accuracy: 0.8255\n",
      "Epoch 58/100\n",
      "225/225 [==============================] - 0s 1ms/step - loss: 0.4114 - accuracy: 0.8242\n",
      "Epoch 59/100\n",
      "225/225 [==============================] - 0s 1ms/step - loss: 0.4113 - accuracy: 0.8241\n",
      "Epoch 60/100\n",
      "225/225 [==============================] - 0s 1ms/step - loss: 0.4112 - accuracy: 0.8241\n",
      "Epoch 61/100\n",
      "225/225 [==============================] - 0s 1ms/step - loss: 0.4112 - accuracy: 0.8251\n",
      "Epoch 62/100\n",
      "225/225 [==============================] - 1s 2ms/step - loss: 0.4112 - accuracy: 0.8256\n",
      "Epoch 63/100\n",
      "225/225 [==============================] - 0s 1ms/step - loss: 0.4111 - accuracy: 0.8248\n",
      "Epoch 64/100\n",
      "225/225 [==============================] - 0s 2ms/step - loss: 0.4110 - accuracy: 0.8245\n",
      "Epoch 65/100\n",
      "225/225 [==============================] - 0s 1ms/step - loss: 0.4110 - accuracy: 0.8248\n",
      "Epoch 66/100\n",
      "225/225 [==============================] - 0s 1ms/step - loss: 0.4109 - accuracy: 0.8244\n",
      "Epoch 67/100\n",
      "225/225 [==============================] - 0s 1ms/step - loss: 0.4109 - accuracy: 0.8248\n",
      "Epoch 68/100\n",
      "225/225 [==============================] - 0s 1ms/step - loss: 0.4110 - accuracy: 0.8255\n",
      "Epoch 69/100\n",
      "225/225 [==============================] - 0s 1ms/step - loss: 0.4109 - accuracy: 0.8253\n",
      "Epoch 70/100\n",
      "225/225 [==============================] - 0s 1ms/step - loss: 0.4108 - accuracy: 0.8248\n",
      "Epoch 71/100\n",
      "225/225 [==============================] - 0s 2ms/step - loss: 0.4109 - accuracy: 0.8238\n",
      "Epoch 72/100\n",
      "225/225 [==============================] - 0s 1ms/step - loss: 0.4109 - accuracy: 0.8245\n",
      "Epoch 73/100\n",
      "225/225 [==============================] - 0s 1ms/step - loss: 0.4109 - accuracy: 0.8245\n",
      "Epoch 74/100\n",
      "225/225 [==============================] - 0s 2ms/step - loss: 0.4107 - accuracy: 0.8246\n",
      "Epoch 75/100\n",
      "225/225 [==============================] - 0s 1ms/step - loss: 0.4107 - accuracy: 0.8252\n",
      "Epoch 76/100\n",
      "225/225 [==============================] - 0s 1ms/step - loss: 0.4107 - accuracy: 0.8264\n",
      "Epoch 77/100\n",
      "225/225 [==============================] - 0s 1ms/step - loss: 0.4107 - accuracy: 0.8260\n",
      "Epoch 78/100\n",
      "225/225 [==============================] - 0s 1ms/step - loss: 0.4107 - accuracy: 0.8248\n",
      "Epoch 79/100\n",
      "225/225 [==============================] - 0s 1ms/step - loss: 0.4107 - accuracy: 0.8246\n",
      "Epoch 80/100\n",
      "225/225 [==============================] - 0s 1ms/step - loss: 0.4106 - accuracy: 0.8253\n",
      "Epoch 81/100\n"
     ]
    },
    {
     "name": "stdout",
     "output_type": "stream",
     "text": [
      "225/225 [==============================] - 0s 1ms/step - loss: 0.4106 - accuracy: 0.8253\n",
      "Epoch 82/100\n",
      "225/225 [==============================] - 0s 1ms/step - loss: 0.4106 - accuracy: 0.8246\n",
      "Epoch 83/100\n",
      "225/225 [==============================] - 0s 1ms/step - loss: 0.4106 - accuracy: 0.8260\n",
      "Epoch 84/100\n",
      "225/225 [==============================] - 0s 1ms/step - loss: 0.4106 - accuracy: 0.8242\n",
      "Epoch 85/100\n",
      "225/225 [==============================] - 0s 1ms/step - loss: 0.4105 - accuracy: 0.8252\n",
      "Epoch 86/100\n",
      "225/225 [==============================] - 0s 1ms/step - loss: 0.4105 - accuracy: 0.8241\n",
      "Epoch 87/100\n",
      "225/225 [==============================] - 0s 1ms/step - loss: 0.4105 - accuracy: 0.8255\n",
      "Epoch 88/100\n",
      "225/225 [==============================] - 0s 1ms/step - loss: 0.4104 - accuracy: 0.8242\n",
      "Epoch 89/100\n",
      "225/225 [==============================] - 0s 1ms/step - loss: 0.4105 - accuracy: 0.8253\n",
      "Epoch 90/100\n",
      "225/225 [==============================] - 0s 1ms/step - loss: 0.4104 - accuracy: 0.8251\n",
      "Epoch 91/100\n",
      "225/225 [==============================] - 0s 1ms/step - loss: 0.4104 - accuracy: 0.8249\n",
      "Epoch 92/100\n",
      "225/225 [==============================] - 0s 1ms/step - loss: 0.4104 - accuracy: 0.8255\n",
      "Epoch 93/100\n",
      "225/225 [==============================] - 0s 1ms/step - loss: 0.4103 - accuracy: 0.8256\n",
      "Epoch 94/100\n",
      "225/225 [==============================] - 0s 1ms/step - loss: 0.4104 - accuracy: 0.8241\n",
      "Epoch 95/100\n",
      "225/225 [==============================] - 0s 1ms/step - loss: 0.4102 - accuracy: 0.8255\n",
      "Epoch 96/100\n",
      "225/225 [==============================] - 0s 1ms/step - loss: 0.4104 - accuracy: 0.8249\n",
      "Epoch 97/100\n",
      "225/225 [==============================] - 0s 1ms/step - loss: 0.4103 - accuracy: 0.8252\n",
      "Epoch 98/100\n",
      "225/225 [==============================] - 0s 1ms/step - loss: 0.4102 - accuracy: 0.8246\n",
      "Epoch 99/100\n",
      "225/225 [==============================] - 0s 1ms/step - loss: 0.4102 - accuracy: 0.8252\n",
      "Epoch 100/100\n",
      "225/225 [==============================] - 0s 1ms/step - loss: 0.4102 - accuracy: 0.8252\n"
     ]
    }
   ],
   "source": [
    "fit_model = nn.fit(scaled_X_train, y_train, epochs=100)"
   ]
  },
  {
   "cell_type": "code",
   "execution_count": 33,
   "id": "db19ef46",
   "metadata": {},
   "outputs": [
    {
     "name": "stdout",
     "output_type": "stream",
     "text": [
      "75/75 - 0s - loss: 0.4051 - accuracy: 0.8253 - 417ms/epoch - 6ms/step\n"
     ]
    }
   ],
   "source": [
    "model_loss, model_accuracy = nn.evaluate(scaled_X_test,y_test,verbose=2)"
   ]
  },
  {
   "cell_type": "code",
   "execution_count": 35,
   "id": "d8d29916",
   "metadata": {},
   "outputs": [
    {
     "name": "stdout",
     "output_type": "stream",
     "text": [
      "75/75 [==============================] - 0s 876us/step\n"
     ]
    }
   ],
   "source": [
    "pred = nn.predict(scaled_X_test)"
   ]
  },
  {
   "cell_type": "code",
   "execution_count": 38,
   "id": "4e0dfb47",
   "metadata": {},
   "outputs": [
    {
     "data": {
      "text/plain": [
       "array([[0.05190632],\n",
       "       [0.06988691],\n",
       "       [0.05656919],\n",
       "       ...,\n",
       "       [0.11398187],\n",
       "       [0.27503574],\n",
       "       [0.41621047]], dtype=float32)"
      ]
     },
     "execution_count": 38,
     "metadata": {},
     "output_type": "execute_result"
    }
   ],
   "source": [
    "pred"
   ]
  },
  {
   "cell_type": "code",
   "execution_count": 40,
   "id": "112a162d",
   "metadata": {},
   "outputs": [],
   "source": [
    "check = pred.tolist()"
   ]
  },
  {
   "cell_type": "code",
   "execution_count": 64,
   "id": "fa00b582",
   "metadata": {},
   "outputs": [
    {
     "data": {
      "text/plain": [
       "0.051906317472457886"
      ]
     },
     "execution_count": 64,
     "metadata": {},
     "output_type": "execute_result"
    }
   ],
   "source": [
    "check[0][0]"
   ]
  },
  {
   "cell_type": "code",
   "execution_count": 65,
   "id": "e6338747",
   "metadata": {},
   "outputs": [],
   "source": [
    "update =[]\n",
    "for i in check: \n",
    "    if i[0] <= 0.5:\n",
    "        update.append(0)\n",
    "    else:\n",
    "        update.append(1)"
   ]
  },
  {
   "cell_type": "code",
   "execution_count": 67,
   "id": "4ed6c2f3",
   "metadata": {},
   "outputs": [
    {
     "name": "stdout",
     "output_type": "stream",
     "text": [
      "              precision    recall  f1-score   support\n",
      "\n",
      "           0       0.97      0.84      0.90      2205\n",
      "           1       0.27      0.70      0.39       193\n",
      "\n",
      "    accuracy                           0.83      2398\n",
      "   macro avg       0.62      0.77      0.65      2398\n",
      "weighted avg       0.91      0.83      0.86      2398\n",
      "\n"
     ]
    }
   ],
   "source": [
    "print(classification_report(update,y_test))"
   ]
  },
  {
   "cell_type": "code",
   "execution_count": null,
   "id": "989d03db",
   "metadata": {},
   "outputs": [],
   "source": []
  }
 ],
 "metadata": {
  "kernelspec": {
   "display_name": "Python 3 (ipykernel)",
   "language": "python",
   "name": "python3"
  },
  "language_info": {
   "codemirror_mode": {
    "name": "ipython",
    "version": 3
   },
   "file_extension": ".py",
   "mimetype": "text/x-python",
   "name": "python",
   "nbconvert_exporter": "python",
   "pygments_lexer": "ipython3",
   "version": "3.9.13"
  }
 },
 "nbformat": 4,
 "nbformat_minor": 5
}
